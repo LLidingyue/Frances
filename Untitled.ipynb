{
 "cells": [
  {
   "cell_type": "markdown",
   "metadata": {},
   "source": [
    "### 写一个程序来管理用于登录系统的用户信息：登陆名字和密码。用户账号建立后，已存在的可以用名字和密码重返回系统。新用户不能使用已经使用过的用户名来建立用户账号。"
   ]
  },
  {
   "cell_type": "markdown",
   "metadata": {},
   "source": [
    "# 字典\n",
    "- 由键值对组成，用：分割\n",
    "- 修改更新 \n",
    "    \n",
    "    dict = {'Name': 'Zara', 'Age': 7, 'Class': 'First'}\n",
    "    - dict['Age'] = 8 # 更新\n",
    "    - dict['School'] = \"RUNOOB\" # 添加"
   ]
  },
  {
   "cell_type": "code",
   "execution_count": 12,
   "metadata": {},
   "outputs": [
    {
     "name": "stdout",
     "output_type": "stream",
     "text": [
      "注册成功\n",
      "{'zhy': '1314', 'ldy': '520', 'hhhhh': '1999'}\n"
     ]
    }
   ],
   "source": [
    "user_pass = {\"zhy\":\"1314\",\"ldy\":\"520\"}\n",
    "#模拟数据库取出的数据\n",
    "\n",
    "def create_user(username,password):\n",
    "    \n",
    "    usernames = user_pass.keys()  #keys()从字典里取出用户名\n",
    "    if username in usernames:\n",
    "        print(\"该用户已注册\")\n",
    "    else:\n",
    "        #未注册就更新，持久化存储到数据库中\n",
    "        user_pass[username] = password #将新的用户名和密码添加进去\n",
    "        print(\"注册成功\")\n",
    "create_user(\"hhhhh\",\"1999\")\n",
    "print(user_pass)\n",
    "\n",
    "def login_user(username,password):\n",
    "    # 判断登录的用户是否存在\n",
    "    usernames = user_pass.keys()\n",
    "    if username not in usernames:\n",
    "        print(\"该用户不存在\")\n",
    "    elif password != user_pass[username]:\n",
    "        print(\"密码错误\")\n",
    "login_user(\"zhy\",\"1314\")"
   ]
  }
 ],
 "metadata": {
  "kernelspec": {
   "display_name": "Python 3",
   "language": "python",
   "name": "python3"
  },
  "language_info": {
   "codemirror_mode": {
    "name": "ipython",
    "version": 3
   },
   "file_extension": ".py",
   "mimetype": "text/x-python",
   "name": "python",
   "nbconvert_exporter": "python",
   "pygments_lexer": "ipython3",
   "version": "3.7.4"
  }
 },
 "nbformat": 4,
 "nbformat_minor": 2
}
