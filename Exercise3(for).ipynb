{
 "cells": [
  {
   "cell_type": "markdown",
   "metadata": {},
   "source": [
    "## for 循环 简单图形打印\n",
    "    * * * * *\n",
    "    * * * * *\n",
    "    * * * * *\n",
    "    * * * * *"
   ]
  },
  {
   "cell_type": "code",
   "execution_count": 4,
   "metadata": {},
   "outputs": [
    {
     "name": "stdout",
     "output_type": "stream",
     "text": [
      "* * * * * \n",
      "* * * * * \n",
      "* * * * * \n",
      "* * * * * \n"
     ]
    }
   ],
   "source": [
    "for i in range(1,5):\n",
    "    print(\"* \"*5)"
   ]
  },
  {
   "cell_type": "code",
   "execution_count": 8,
   "metadata": {},
   "outputs": [
    {
     "name": "stdout",
     "output_type": "stream",
     "text": [
      "* * * * * \n",
      "* * * * * \n",
      "* * * * * \n",
      "* * * * * \n"
     ]
    }
   ],
   "source": [
    "# 双层for 循环\n",
    "for i in range(0,4):\n",
    "    for j in range(0,5):\n",
    "        #通过end来控制结尾\n",
    "        \n",
    "        print(\"* \",end = \"\" )\n",
    "    print(\"\")"
   ]
  },
  {
   "cell_type": "markdown",
   "metadata": {},
   "source": [
    "### 图形2\n",
    "    * * * * *\n",
    "    *       *\n",
    "    *       *\n",
    "    * * * * *\n",
    "    \n",
    "- 思路：\n",
    "    - 1.正常利用for循环控制打印行\n",
    "    - 2.如果是第一行和最后一行，则完整打印\n",
    "    - 3.否则判断打印列，如果是第一列或者最后一列，则打印*，否则打印空格"
   ]
  },
  {
   "cell_type": "code",
   "execution_count": 16,
   "metadata": {},
   "outputs": [
    {
     "name": "stdout",
     "output_type": "stream",
     "text": [
      "* * * * * \n",
      "*       *\n",
      "*       *\n",
      "* * * * * \n"
     ]
    }
   ],
   "source": [
    "#外（单）层循环\n",
    "for i in range(0,4):\n",
    "    if i == 0 or i == 3:\n",
    "        print(\"* \" * 5)\n",
    "    else:\n",
    "        print(\"*       *\")        \n",
    "    "
   ]
  },
  {
   "cell_type": "code",
   "execution_count": 31,
   "metadata": {},
   "outputs": [
    {
     "name": "stdout",
     "output_type": "stream",
     "text": [
      "* * * * * \n",
      "*       * \n",
      "*       * \n",
      "* * * * * \n"
     ]
    }
   ],
   "source": [
    "#双层循环\n",
    "for i in range(0,4):\n",
    "    if i == 0 or i == 3:\n",
    "        print(\"* \" * 5)\n",
    "    if i == 1 or i ==2:\n",
    "        for j in range(0,5):\n",
    "            if j == 0 or j == 4:\n",
    "                print(\"* \",end=\"\")\n",
    "            else:\n",
    "                print(\"  \",end=\"\")\n",
    "        print()"
   ]
  },
  {
   "cell_type": "markdown",
   "metadata": {},
   "source": [
    "### 打印三角形\n",
    "    *\n",
    "    * *\n",
    "    * * *\n",
    "    * * * *\n",
    "    * * * * *"
   ]
  },
  {
   "cell_type": "code",
   "execution_count": 29,
   "metadata": {},
   "outputs": [
    {
     "name": "stdout",
     "output_type": "stream",
     "text": [
      "* \n",
      "* * \n",
      "* * * \n",
      "* * * * \n",
      "* * * * * \n"
     ]
    }
   ],
   "source": [
    "for i in range(0,5):  \n",
    "    for j in range(0,i+1): #由于区间\n",
    "        print(\"* \",end=\"\")\n",
    "    print(\"\") #一行打完后进行换行"
   ]
  },
  {
   "cell_type": "markdown",
   "metadata": {},
   "source": [
    "### 打印空心三角形\n",
    "   "
   ]
  },
  {
   "cell_type": "code",
   "execution_count": 37,
   "metadata": {},
   "outputs": [
    {
     "name": "stdout",
     "output_type": "stream",
     "text": [
      "输入行数:6\n",
      "*           \n",
      "* *         \n",
      "*   *       \n",
      "*     *     \n",
      "*       *   \n",
      "* * * * * * \n"
     ]
    }
   ],
   "source": [
    "row = input(\"输入行数:\")\n",
    "#line = input(\"输入列数:\")\n",
    "row = int(row)\n",
    "for i in range(0,row):\n",
    "    for j in range(0,row):\n",
    "         if i == row-1:\n",
    "            print(\"* \",end=\"\")\n",
    "            continue           \n",
    "         if j == 0 or j == i:\n",
    "            print(\"* \",end=\"\")\n",
    "         else:\n",
    "            print(\"  \",end=\"\")\n",
    "    print()\n",
    "    "
   ]
  },
  {
   "cell_type": "markdown",
   "metadata": {},
   "source": [
    "### 打印倒三角"
   ]
  },
  {
   "cell_type": "code",
   "execution_count": 9,
   "metadata": {},
   "outputs": [
    {
     "name": "stdout",
     "output_type": "stream",
     "text": [
      "* * * * * \n",
      "* * * * \n",
      "* * * \n",
      "* * \n",
      "* \n"
     ]
    }
   ],
   "source": [
    "for i in range(0,5):\n",
    "    for j in range(0,5-i):\n",
    "        print(\"* \",end =\"\")\n",
    "    print()"
   ]
  },
  {
   "cell_type": "markdown",
   "metadata": {},
   "source": [
    "### 打印空心三角"
   ]
  },
  {
   "cell_type": "code",
   "execution_count": 33,
   "metadata": {},
   "outputs": [
    {
     "name": "stdout",
     "output_type": "stream",
     "text": [
      "* * * * * \n",
      "*     * \n",
      "*   * \n",
      "* * \n",
      "* \n"
     ]
    }
   ],
   "source": [
    "for i in range(0,5):\n",
    "    for j in range(0,5-i):\n",
    "        if i == 0:\n",
    "            print(\"* \",end=\"\")\n",
    "            continue\n",
    "        if j == 5-1-i or j == 0:\n",
    "            print(\"* \",end=\"\")\n",
    "        else :\n",
    "            print(\"  \",end=\"\")\n",
    "    print()"
   ]
  },
  {
   "cell_type": "markdown",
   "metadata": {},
   "source": [
    "### 打印正三角形"
   ]
  },
  {
   "cell_type": "code",
   "execution_count": 30,
   "metadata": {},
   "outputs": [
    {
     "name": "stdout",
     "output_type": "stream",
     "text": [
      "      * \n",
      "     * * \n",
      "    * * * \n",
      "   * * * * \n",
      "  * * * * * \n",
      " * * * * * * \n"
     ]
    }
   ],
   "source": [
    "#先打印空格后打印*\n",
    "for i in range(0,6):\n",
    "    for j in range(0,6-i):\n",
    "        print(\" \",end=\"\")\n",
    "    for k in range(0,i+1):\n",
    "        print(\"* \",end=\"\")\n",
    "    print()\n",
    "        \n",
    "        "
   ]
  },
  {
   "cell_type": "code",
   "execution_count": 32,
   "metadata": {},
   "outputs": [
    {
     "name": "stdout",
     "output_type": "stream",
     "text": [
      "      * \n",
      "     * * \n",
      "    *   * \n",
      "   *     * \n",
      "  *       * \n",
      " * * * * * * \n"
     ]
    }
   ],
   "source": [
    "#打印空三角\n",
    "for i in range(0,6):\n",
    "    for j in range(0,6-i):\n",
    "        print(\" \",end=\"\")\n",
    "    for k in range(0,i+1):\n",
    "        if i==5 or k==0 or k == i :\n",
    "            print(\"* \",end=\"\")\n",
    "        else:\n",
    "            print(\"  \",end=\"\")\n",
    "    print()"
   ]
  },
  {
   "cell_type": "markdown",
   "metadata": {},
   "source": [
    "### 编写一个程序，求100~999之间的所有水仙花数\n",
    "- 如果一个3位数等于其他数字的立方和，则称这个数为水仙花数，例如：153=1^3+5^3+3^3,因此153是一个水仙花数"
   ]
  },
  {
   "cell_type": "code",
   "execution_count": 44,
   "metadata": {},
   "outputs": [
    {
     "name": "stdout",
     "output_type": "stream",
     "text": [
      "153\n",
      "370\n",
      "371\n",
      "407\n"
     ]
    }
   ],
   "source": [
    "for i in range(100, 1000):\n",
    "    temp = list(str(i)) #list可以将数字的每一位数分离出来到字符串数组中\n",
    "    a = int(temp[0])\n",
    "    b = int(temp[1]) #将数据转换为int类型\n",
    "    c = int(temp[2])\n",
    "    if a**3 + b**3 + c**3 == i:\n",
    "        print(i)"
   ]
  },
  {
   "cell_type": "markdown",
   "metadata": {},
   "source": [
    "### 三色球问题\n",
    "- 红黄蓝三种颜色的球，其中红3黄3绿6。将12个球混合放在一个盒子里，从中摸出8个球，编程计算球的各种颜色搭配"
   ]
  },
  {
   "cell_type": "code",
   "execution_count": 60,
   "metadata": {},
   "outputs": [
    {
     "name": "stdout",
     "output_type": "stream",
     "text": [
      "RED:0  YELLOW:2  GREEN:6  \n",
      "RED:0  YELLOW:3  GREEN:5  \n",
      "RED:1  YELLOW:1  GREEN:6  \n",
      "RED:1  YELLOW:2  GREEN:5  \n",
      "RED:1  YELLOW:3  GREEN:4  \n",
      "RED:2  YELLOW:0  GREEN:6  \n",
      "RED:2  YELLOW:1  GREEN:5  \n",
      "RED:2  YELLOW:2  GREEN:4  \n",
      "RED:2  YELLOW:3  GREEN:3  \n",
      "RED:3  YELLOW:0  GREEN:5  \n",
      "RED:3  YELLOW:1  GREEN:4  \n",
      "RED:3  YELLOW:2  GREEN:3  \n",
      "RED:3  YELLOW:3  GREEN:2  \n"
     ]
    }
   ],
   "source": [
    "for red in range(0,4):\n",
    "    for yellow in range(0,4):\n",
    "        for green in range(2,7):\n",
    "            if red + yellow + green == 8:\n",
    "                print(\"RED:{}\".format(red),end=\"  \")\n",
    "                print(\"YELLOW:{}\".format(yellow),end=\"  \")\n",
    "                print(\"GREEN:{}\".format(green),end=\"  \")\n",
    "                print()\n",
    "            "
   ]
  }
 ],
 "metadata": {
  "kernelspec": {
   "display_name": "Python 3",
   "language": "python",
   "name": "python3"
  },
  "language_info": {
   "codemirror_mode": {
    "name": "ipython",
    "version": 3
   },
   "file_extension": ".py",
   "mimetype": "text/x-python",
   "name": "python",
   "nbconvert_exporter": "python",
   "pygments_lexer": "ipython3",
   "version": "3.7.4"
  }
 },
 "nbformat": 4,
 "nbformat_minor": 2
}
