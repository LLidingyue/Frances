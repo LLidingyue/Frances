{
 "cells": [
  {
   "cell_type": "markdown",
   "metadata": {},
   "source": [
    "# list 列表\n",
    "- 一组有序数据组成的队列（不是按照大小顺序排列的）\n",
    "    - 数据有先后顺序\n",
    "    - 数据可以不是一类数据\n",
    "- list的创建\n",
    "    - 直接创建: 用中括号创建，内容直接用英文逗号隔开\n",
    "    - 使用list创建\n",
    "    - "
   ]
  },
  {
   "cell_type": "code",
   "execution_count": 1,
   "metadata": {},
   "outputs": [
    {
     "name": "stdout",
     "output_type": "stream",
     "text": [
      "[1, 2, 3, 'donkey']\n"
     ]
    }
   ],
   "source": [
    " L1 = [1,2,3,4,5]\n",
    "#list内的数据可以不是一个类型\n",
    "L2 = [1,2,3,\"donkey\"]\n",
    "print(L2)"
   ]
  },
  {
   "cell_type": "code",
   "execution_count": 2,
   "metadata": {},
   "outputs": [
    {
     "name": "stdout",
     "output_type": "stream",
     "text": [
      "[]\n",
      "<class 'list'>\n"
     ]
    }
   ],
   "source": [
    "#创建列表的第二种方式\n",
    "L3 = list()\n",
    "print(L3)\n",
    "print(type(L3))"
   ]
  },
  {
   "cell_type": "markdown",
   "metadata": {},
   "source": [
    "# 内置函数概念\n",
    "- help: 帮助函数\n",
    "- type：显示变量的类型\n",
    "- id: 显示变量的id\n",
    "- print："
   ]
  },
  {
   "cell_type": "code",
   "execution_count": 3,
   "metadata": {},
   "outputs": [
    {
     "name": "stdout",
     "output_type": "stream",
     "text": [
      "<class 'list'>\n",
      "['L', 'i', 'u', ' ', 'D', 'a', 'n', 'a']\n",
      "['Liu Dana']\n"
     ]
    }
   ],
   "source": [
    "#list创建的特例演示\n",
    "s =  \"Liu Dana\"\n",
    "L1 = list(s)\n",
    "L2 = [s]\n",
    "#此种情况用 L1=[s]\n",
    "print(type(L1))\n",
    "print(L1)\n",
    "print(L2)"
   ]
  },
  {
   "cell_type": "markdown",
   "metadata": {},
   "source": [
    "# 列表的常见操作\n",
    "- 访问\n",
    "    - 使用下标操作，也叫索引\n",
    "    - 列表的元素索引从0开始\n",
    "- 切片操作\n",
    "    - 对列表进行任意一段的截取\n",
    "    - 截取之后创建新列表"
   ]
  },
  {
   "cell_type": "code",
   "execution_count": 4,
   "metadata": {},
   "outputs": [
    {
     "name": "stdout",
     "output_type": "stream",
     "text": [
      "54\n"
     ]
    }
   ],
   "source": [
    "L1 = [22,23,54,88,19,8]\n",
    "#使用下标访问\n",
    "#记住IndexError引发的原因 下标超出范围\n",
    "print(L1[2])"
   ]
  },
  {
   "cell_type": "code",
   "execution_count": 5,
   "metadata": {},
   "outputs": [
    {
     "name": "stdout",
     "output_type": "stream",
     "text": [
      "[22, 33, 44, 55, 66]\n",
      "2599623321672\n",
      "2599623496520\n",
      "[11, 22, 33, 44]\n",
      "[33, 44, 55, 66, 77, 88, 99]\n",
      "[11, 22, 33, 44, 55, 66, 77, 88, 99]\n",
      "[11, 22, 33, 44, 55, 66, 77, 88, 99]\n",
      "[11, 33, 55, 77, 99]\n",
      "[88, 77, 66]\n",
      "[55, 66, 77]\n"
     ]
    }
   ],
   "source": [
    "# 切片操作要注意取值范围，左包括右不包括\n",
    "L1 = [11,22,33,44,55,66,77,88,99]\n",
    "#对比打印结果和下标的值\n",
    "print(L1[1:6])\n",
    "\n",
    "# 下面结果说明切片后生成的是一个全新的列表\n",
    "#通过内置函数id判断  id用来判断是否是一个变量\n",
    "L2 = L1[0:10]\n",
    "print(id(L1))\n",
    "print(id(L2))\n",
    "\n",
    "#切片下标可以为空\n",
    "print(L1[:4])\n",
    "print(L1[2:])\n",
    "print(L1[:])\n",
    "\n",
    "#分片可控制增长幅度，默认为1\n",
    "print(L1[::1]) #等价于print（L1[:])\n",
    "print(L1[::2])\n",
    "\n",
    "#下标可超出范围，超出后不再考虑多余下标内容\n",
    "#下标和增长幅度可以为负数\n",
    "#下标为负数，表明顺序从右往左，规定数组最后一个数字下标是-1\n",
    "\n",
    "#利用负数下标打印88 ,77,66\n",
    "print(L1[-2:-5:-1])\n",
    "#利用负数下标打印66，77，88\n",
    "print(L1[-5:-2:1])"
   ]
  },
  {
   "cell_type": "markdown",
   "metadata": {},
   "source": [
    "### append()&extend()&insert()"
   ]
  },
  {
   "cell_type": "code",
   "execution_count": 12,
   "metadata": {},
   "outputs": [
    {
     "name": "stdout",
     "output_type": "stream",
     "text": [
      "2986433177736\n",
      "[1, 2, 3, 4, 5, [6, 7, 8]]\n",
      "2986433177736\n",
      "[1, 2, 3, 4, 5, 6, 7, 855]\n",
      "[1, 2, 10, 3, 4, 5]\n",
      "2986433177864\n",
      "2986432372232\n"
     ]
    }
   ],
   "source": [
    "a = [1, 2, 3, 4, 5]\n",
    "\n",
    "\n",
    "print(id(a))\n",
    "a.append([6,7,8]) #将元素组作为单独元素添加上\n",
    "print(a)\n",
    "print(id(a))\n",
    "\n",
    "b = [1, 2, 3, 4, 5]\n",
    "b1 = [6, 7, 855]\n",
    "b.extend(b1) #将一个列表继承另一个列表,#直接在其后添加元素#\n",
    "print(b)\n",
    "\n",
    "c = [1, 2, 3, 4, 5]\n",
    "c.insert(2,10) #在下标为2位置添加10\n",
    "print(c)\n",
    "# insert对列表某一特定位置进行元素添加\n",
    "\n",
    "#copy 复制列表\n",
    "list1 = [1,2,3,4,5]\n",
    "list2 = list1.copy()\n",
    "print(id(list1))\n",
    "print(id(list2)) #复制之后产生了新列表\n"
   ]
  },
  {
   "cell_type": "code",
   "execution_count": 10,
   "metadata": {},
   "outputs": [
    {
     "name": "stdout",
     "output_type": "stream",
     "text": [
      "3\n"
     ]
    }
   ],
   "source": [
    "# count() 计算某个元素在列表中出现的次数\n",
    "list1 = [1,1,1,2,5,3]\n",
    "print(list1.count(1))"
   ]
  },
  {
   "cell_type": "code",
   "execution_count": 13,
   "metadata": {},
   "outputs": [
    {
     "name": "stdout",
     "output_type": "stream",
     "text": [
      "1\n",
      "3\n"
     ]
    }
   ],
   "source": [
    "# index() 获取值在列表中的索引\n",
    "list1 = [1,3,2,3,4,5]\n",
    "print(list1.index(3))\n",
    "print(list1.index(3,2,5)) # 3是查找的数字，2和5分别是起点位置和终止位置\n",
    "# 返回的值是在总序列中的位置"
   ]
  },
  {
   "cell_type": "code",
   "execution_count": 15,
   "metadata": {},
   "outputs": [
    {
     "name": "stdout",
     "output_type": "stream",
     "text": [
      "[1, 2, 9, 3, 4, 5]\n"
     ]
    }
   ],
   "source": [
    "# insert() 指定位置插入元素 2个参数\n",
    "list1 = [1,2,3,4,5]\n",
    "list1.insert(2,9)\n",
    "print(list1)  #数字9插入之后变成了位置2"
   ]
  },
  {
   "cell_type": "code",
   "execution_count": 18,
   "metadata": {},
   "outputs": [
    {
     "name": "stdout",
     "output_type": "stream",
     "text": [
      "5\n",
      "3\n",
      "[1, 2, 4]\n"
     ]
    }
   ],
   "source": [
    "#pop() 根据索引移除列表内一个元素，不给索引默认移除最后一个 返回移除的值\n",
    "list1 = [1,2,3,4,5]\n",
    "print(list1.pop())\n",
    "print(list1.pop(2))\n",
    "print(list1)"
   ]
  },
  {
   "cell_type": "code",
   "execution_count": 19,
   "metadata": {},
   "outputs": [
    {
     "name": "stdout",
     "output_type": "stream",
     "text": [
      "None\n",
      "['a', 'e']\n"
     ]
    }
   ],
   "source": [
    "# remove()  移除列表中指定的值  返回None\n",
    "list1 = ['a','b','e']\n",
    "print(list1.remove('b'))\n",
    "print(list1)"
   ]
  },
  {
   "cell_type": "code",
   "execution_count": 22,
   "metadata": {},
   "outputs": [
    {
     "name": "stdout",
     "output_type": "stream",
     "text": [
      "2986433179528\n",
      "2986433179528\n",
      "[4, 3, 2, 1]\n"
     ]
    }
   ],
   "source": [
    "# reverse() 列表反转\n",
    "list1 = [1,2,3,4]\n",
    "print(id(list1))    #原列表反转\n",
    "list1.reverse()\n",
    "print(id(list1))\n",
    "print(list1)"
   ]
  },
  {
   "cell_type": "code",
   "execution_count": 25,
   "metadata": {},
   "outputs": [
    {
     "name": "stdout",
     "output_type": "stream",
     "text": [
      "[1, 3, 4, 6, 7, 99]\n",
      "[99, 7, 6, 4, 3, 1]\n"
     ]
    }
   ],
   "source": [
    "# sort() 排序  默认从小到大\n",
    "list1 = [3,6,4,1,99,7]\n",
    "list1.sort()\n",
    "print(list1)\n",
    "\n",
    "#从小到大\n",
    "list1.sort(reverse=True)\n",
    "print(list1)"
   ]
  },
  {
   "cell_type": "markdown",
   "metadata": {},
   "source": [
    "### 假定给出一个列表 member = [\"图灵\",\"的\",\"主人\"]\n",
    "### 要把member变成 member = [\"图灵\",\"22\",\"的\",\"主人\",\"66\"] 该如何做"
   ]
  },
  {
   "cell_type": "code",
   "execution_count": 2,
   "metadata": {},
   "outputs": [
    {
     "name": "stdout",
     "output_type": "stream",
     "text": [
      "['图灵', '22', '的', '主人', 66, 66]\n"
     ]
    }
   ],
   "source": [
    "member = [\"图灵\",\"的\",\"主人\"]\n",
    "member.insert(1,\"22\")\n",
    "member.insert(4,66)\n",
    "member.append(66)\n",
    "print(member)"
   ]
  },
  {
   "cell_type": "markdown",
   "metadata": {},
   "source": [
    "### 如何将下列列表的tuling修改为zhou\n",
    "### ls = [1 ,[1, 2,['tuling']],3,4,8,9]"
   ]
  },
  {
   "cell_type": "code",
   "execution_count": 3,
   "metadata": {},
   "outputs": [
    {
     "name": "stdout",
     "output_type": "stream",
     "text": [
      "[1, [1, 2, ['zhou']], 3, 4, 8, 9]\n"
     ]
    }
   ],
   "source": [
    "ls =  [1, [1, 2, ['tuling'] ], 3, 4, 8, 9]\n",
    "ls[1][2][0] = \"zhou\"  \n",
    "print(ls)\n",
    "\n",
    "# ls后的[]是一层一层往内推\n"
   ]
  },
  {
   "cell_type": "markdown",
   "metadata": {},
   "source": [
    "### 还原列表推导式\n",
    "### ls = [ (x, y) for x in range(10)  for y in range(10) if x%2 == 0 if y%2 != 0]"
   ]
  },
  {
   "cell_type": "code",
   "execution_count": 4,
   "metadata": {},
   "outputs": [
    {
     "name": "stdout",
     "output_type": "stream",
     "text": [
      "[(0, 1), (0, 3), (0, 5), (0, 7), (0, 9), (2, 1), (2, 3), (2, 5), (2, 7), (2, 9), (4, 1), (4, 3), (4, 5), (4, 7), (4, 9), (6, 1), (6, 3), (6, 5), (6, 7), (6, 9), (8, 1), (8, 3), (8, 5), (8, 7), (8, 9)]\n"
     ]
    }
   ],
   "source": [
    "ls = [ (x, y) for x in range(10) for y in range(10) if x%2 == 0 if y%2 != 0]\n",
    "print(ls)"
   ]
  },
  {
   "cell_type": "code",
   "execution_count": 5,
   "metadata": {},
   "outputs": [
    {
     "name": "stdout",
     "output_type": "stream",
     "text": [
      "[(0, 1), (0, 3), (0, 5), (0, 7), (0, 9), (2, 1), (2, 3), (2, 5), (2, 7), (2, 9), (4, 1), (4, 3), (4, 5), (4, 7), (4, 9), (6, 1), (6, 3), (6, 5), (6, 7), (6, 9), (8, 1), (8, 3), (8, 5), (8, 7), (8, 9)]\n"
     ]
    }
   ],
   "source": [
    "ls = []\n",
    "for x in range(0,10):\n",
    "    for y in range(0,10):\n",
    "        if x%2 == 0 and y%2 != 0:\n",
    "            ls.append((x,y))  #循环将满足条件的元组加到后面\n",
    "print(ls)"
   ]
  },
  {
   "cell_type": "markdown",
   "metadata": {},
   "source": [
    "## 定义一个元组\n",
    "- 多个元素\n",
    "- 单个元素"
   ]
  },
  {
   "cell_type": "markdown",
   "metadata": {},
   "source": [
    "a = (1,2,3)\n",
    "b = (1,)"
   ]
  },
  {
   "cell_type": "markdown",
   "metadata": {},
   "source": [
    "### 下列场景是使用元组还是列表保存数据\n",
    "- 游戏角色属性 元组\n",
    "- 购物网站商品信息 列表\n",
    "- 动车组件具体配置参数  元组\n",
    "- 发送的配置清单  元组，列表\n",
    "- 身份证信息  元组\n",
    "\n",
    "#### 元组是不可被修改的"
   ]
  }
 ],
 "metadata": {
  "kernelspec": {
   "display_name": "Python 3",
   "language": "python",
   "name": "python3"
  },
  "language_info": {
   "codemirror_mode": {
    "name": "ipython",
    "version": 3
   },
   "file_extension": ".py",
   "mimetype": "text/x-python",
   "name": "python",
   "nbconvert_exporter": "python",
   "pygments_lexer": "ipython3",
   "version": "3.7.4"
  }
 },
 "nbformat": 4,
 "nbformat_minor": 2
}
