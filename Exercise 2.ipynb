{
 "cells": [
  {
   "cell_type": "markdown",
   "metadata": {},
   "source": [
    "### 写一个程序，打印出 0-100所有奇数"
   ]
  },
  {
   "cell_type": "code",
   "execution_count": 2,
   "metadata": {},
   "outputs": [
    {
     "name": "stdout",
     "output_type": "stream",
     "text": [
      "1\n",
      "3\n",
      "5\n",
      "7\n",
      "9\n",
      "11\n",
      "13\n",
      "15\n",
      "17\n",
      "19\n",
      "21\n",
      "23\n",
      "25\n",
      "27\n",
      "29\n",
      "31\n",
      "33\n",
      "35\n",
      "37\n",
      "39\n",
      "41\n",
      "43\n",
      "45\n",
      "47\n",
      "49\n",
      "51\n",
      "53\n",
      "55\n",
      "57\n",
      "59\n",
      "61\n",
      "63\n",
      "65\n",
      "67\n",
      "69\n",
      "71\n",
      "73\n",
      "75\n",
      "77\n",
      "79\n",
      "81\n",
      "83\n",
      "85\n",
      "87\n",
      "89\n",
      "91\n",
      "93\n",
      "95\n",
      "97\n",
      "99\n"
     ]
    }
   ],
   "source": [
    "ls = range(0, 101)\n",
    "for i in ls:\n",
    "    if i % 2 ==1:\n",
    "        print(i)"
   ]
  },
  {
   "cell_type": "markdown",
   "metadata": {},
   "source": [
    "### 爱因斯坦数学题：一个长阶梯，每步上2阶，最后剩1阶；每步上3阶，最后剩2阶；每步上5阶，最后上4阶；6剩5，每步上7阶，最后刚好不剩\n",
    "- 求至少有多少多少阶"
   ]
  },
  {
   "cell_type": "code",
   "execution_count": 3,
   "metadata": {},
   "outputs": [
    {
     "name": "stdout",
     "output_type": "stream",
     "text": [
      "119\n",
      "329\n",
      "539\n",
      "749\n",
      "959\n",
      "循环结束\n"
     ]
    }
   ],
   "source": [
    "stadir = 0\n",
    "while stadir < 1000:\n",
    "    if(stadir%2==1)\\\n",
    "    and (stadir%3==2)\\\n",
    "    and (stadir%5==4)\\\n",
    "    and (stadir%6==5)\\\n",
    "    and (stadir%7==0):\n",
    "        print(stadir)\n",
    "        stadir += 1\n",
    "    else:\n",
    "        stadir += 1\n",
    "print(\"循环结束\")\n",
    "        "
   ]
  },
  {
   "cell_type": "markdown",
   "metadata": {},
   "source": [
    "### 这行代码是什么意思\n",
    "- if not (money<100)\n"
   ]
  },
  {
   "cell_type": "code",
   "execution_count": null,
   "metadata": {},
   "outputs": [],
   "source": [
    "money >= 100"
   ]
  },
  {
   "cell_type": "markdown",
   "metadata": {},
   "source": [
    "### 如何将 x = 1, y = 2, z = 3三个值相互交换"
   ]
  },
  {
   "cell_type": "code",
   "execution_count": 8,
   "metadata": {},
   "outputs": [
    {
     "name": "stdout",
     "output_type": "stream",
     "text": [
      "1 2 3\n",
      "2 3 1\n"
     ]
    }
   ],
   "source": [
    "x = 1\n",
    "y = 2\n",
    "z = 3\n",
    "print(x,y,z)\n",
    "x, y, z = y, z, x\n",
    "print(x,y,z)"
   ]
  },
  {
   "cell_type": "markdown",
   "metadata": {},
   "source": [
    "### 成员资格运算符 'in' 的用法 "
   ]
  },
  {
   "cell_type": "code",
   "execution_count": 10,
   "metadata": {},
   "outputs": [
    {
     "name": "stdout",
     "output_type": "stream",
     "text": [
      "True\n"
     ]
    }
   ],
   "source": [
    "#可做布尔运算\n",
    "ls = range(100)\n",
    "if not 100 in ls:\n",
    "    print(True)\n",
    "else:\n",
    "    print(False)"
   ]
  },
  {
   "cell_type": "markdown",
   "metadata": {},
   "source": [
    "### range()函数"
   ]
  },
  {
   "cell_type": "code",
   "execution_count": 12,
   "metadata": {},
   "outputs": [
    {
     "name": "stdout",
     "output_type": "stream",
     "text": [
      "0\n",
      "2\n",
      "4\n",
      "6\n",
      "8\n"
     ]
    }
   ],
   "source": [
    "ls = range(0,10,2)   #后边的2是增长幅度\n",
    "for i in ls:\n",
    "    print(i)"
   ]
  },
  {
   "cell_type": "markdown",
   "metadata": {},
   "source": [
    "### 下面循环会打印多少次\"tuling\"\n",
    "    for i in range(0,10,2):\n",
    "        print (\"tuling\")\n",
    "        \n",
    "        \n",
    "        \n",
    "- 会打印5次"
   ]
  },
  {
   "cell_type": "markdown",
   "metadata": {},
   "source": [
    "### 目测一下会打印什么\n",
    "\n",
    "    while True:\n",
    "        while True:\n",
    "            break\n",
    "            print(1)\n",
    "        print(2)\n",
    "        break\n",
    "    print(3)"
   ]
  },
  {
   "cell_type": "code",
   "execution_count": 16,
   "metadata": {},
   "outputs": [
    {
     "name": "stdout",
     "output_type": "stream",
     "text": [
      "3\n"
     ]
    }
   ],
   "source": [
    "while True:\n",
    "        while True:\n",
    "            break\n",
    "            print(1)\n",
    "        print(2)\n",
    "        break\n",
    "print(3)"
   ]
  },
  {
   "cell_type": "markdown",
   "metadata": {},
   "source": [
    "### 从代码效率来考虑，以下有什么问题，如何改进\n",
    "    i = 0\n",
    "    string = \"loving\"\n",
    "    while i < len(string):#len重复调用\n",
    "        print(i)\n",
    "        i += 1"
   ]
  },
  {
   "cell_type": "code",
   "execution_count": 17,
   "metadata": {},
   "outputs": [
    {
     "name": "stdout",
     "output_type": "stream",
     "text": [
      "0\n",
      "1\n",
      "2\n",
      "3\n",
      "4\n",
      "5\n"
     ]
    }
   ],
   "source": [
    "i = 0\n",
    "string = \"loving\"\n",
    "leng = len(string)\n",
    "while i < leng:\n",
    "    print(i)\n",
    "    i += 1\n",
    "    "
   ]
  },
  {
   "cell_type": "markdown",
   "metadata": {},
   "source": [
    "### 设计一个验证用户密码的程序，有三次机会，用户输入的内容包括\"*\"不计算在内"
   ]
  },
  {
   "cell_type": "code",
   "execution_count": 23,
   "metadata": {},
   "outputs": [
    {
     "name": "stdout",
     "output_type": "stream",
     "text": [
      "请输入密码: 11111\n",
      "密码错误\n",
      "请输入密码: abc012\n",
      "密码正确\n"
     ]
    }
   ],
   "source": [
    "passwd = \"abc012\"\n",
    "times = 3\n",
    "while times:\n",
    "    input_pass = input(\"请输入密码: \")\n",
    "    if '*' in input_pass:\n",
    "        print(\"密码中包含不合法字符\")\n",
    "    elif input_pass == passwd:     \n",
    "        print(\"密码正确\")\n",
    "        break    \n",
    "    else:\n",
    "        print(\"密码错误\")\n",
    "        times -= 1\n",
    "        \n"
   ]
  }
 ],
 "metadata": {
  "kernelspec": {
   "display_name": "Python 3",
   "language": "python",
   "name": "python3"
  },
  "language_info": {
   "codemirror_mode": {
    "name": "ipython",
    "version": 3
   },
   "file_extension": ".py",
   "mimetype": "text/x-python",
   "name": "python",
   "nbconvert_exporter": "python",
   "pygments_lexer": "ipython3",
   "version": "3.7.4"
  }
 },
 "nbformat": 4,
 "nbformat_minor": 2
}
