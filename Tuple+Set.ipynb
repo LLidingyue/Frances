{
 "cells": [
  {
   "cell_type": "markdown",
   "metadata": {},
   "source": [
    "# tuple（元组）\n",
    "- 可以理解成一个不允许更改的列表\n"
   ]
  },
  {
   "cell_type": "code",
   "execution_count": 20,
   "metadata": {},
   "outputs": [
    {
     "name": "stdout",
     "output_type": "stream",
     "text": [
      "<class 'tuple'>\n",
      "<class 'tuple'>\n",
      "<class 'tuple'>\n",
      "()\n",
      "(1, 2, 3, 'zhy')\n",
      "[1, 2, 3, 'zhy']\n"
     ]
    }
   ],
   "source": [
    "# tuple的创建\n",
    "\n",
    "#1. 直接用小括号\n",
    "ta = ()\n",
    "#当用小括号创建一个元素的tuple的时候\n",
    "tb = (100, )\n",
    "print(type(tb))\n",
    "\n",
    "#2. 直接用逗号\n",
    "ta = 100,\n",
    "print(type(ta))\n",
    "tb = 100, 200, 300, #后边可以跟逗号\n",
    "print(type(tb))\n",
    "\n",
    "#3. 使用tuple定义\n",
    "ta = tuple()\n",
    "print(ta)\n",
    "\n",
    "li = [1,2,3,\"zhy\"]\n",
    "tb = tuple(li)  #要求tuple参数必须可迭代\n",
    "print(tb)\n",
    "print(li)"
   ]
  },
  {
   "cell_type": "markdown",
   "metadata": {},
   "source": [
    "### tuple其余特征跟list基本一致\n",
    "- 有序\n",
    "- 可以访问不可以被修改\n",
    "- 元素可以是任意类型\n"
   ]
  },
  {
   "cell_type": "code",
   "execution_count": 21,
   "metadata": {},
   "outputs": [
    {
     "name": "stdout",
     "output_type": "stream",
     "text": [
      "['q', 'love', 'qq']\n",
      "qq\n"
     ]
    }
   ],
   "source": [
    "#tuple 索引操作\n",
    "la = [\"q\", \"love\", \"qq\"]\n",
    "print(la)\n",
    "ta = tuple(la)\n",
    "print(ta[2])\n"
   ]
  },
  {
   "cell_type": "code",
   "execution_count": 22,
   "metadata": {},
   "outputs": [
    {
     "name": "stdout",
     "output_type": "stream",
     "text": [
      "('q', 'love', 'qq')\n",
      "('q', 'love')\n",
      "('qq', 'love', 'q')\n"
     ]
    }
   ],
   "source": [
    "#tuple分片操作\n",
    "print(ta[:])\n",
    "print(ta[:2])\n",
    "print(ta[-1::-1])#逆序"
   ]
  },
  {
   "cell_type": "code",
   "execution_count": 24,
   "metadata": {},
   "outputs": [
    {
     "name": "stdout",
     "output_type": "stream",
     "text": [
      "('i', 'love', 'you', 100, 200, 300)\n"
     ]
    }
   ],
   "source": [
    "# tuple的相加\n",
    "ta = 100, 200, 300\n",
    "tb = (\"i\", \"love\", \"you\")\n",
    "tc = tb + ta\n",
    "print(tc)"
   ]
  },
  {
   "cell_type": "code",
   "execution_count": 25,
   "metadata": {},
   "outputs": [
    {
     "name": "stdout",
     "output_type": "stream",
     "text": [
      "('i', 'love', 'you', 'i', 'love', 'you')\n"
     ]
    }
   ],
   "source": [
    "# tuple乘法\n",
    "\n",
    "tc = tb * 2\n",
    "print(tc)"
   ]
  },
  {
   "cell_type": "code",
   "execution_count": 26,
   "metadata": {},
   "outputs": [
    {
     "name": "stdout",
     "output_type": "stream",
     "text": [
      "('i', 'love', 'you')\n",
      "happy\n"
     ]
    }
   ],
   "source": [
    "# tuple成员检测\n",
    "print(tb)\n",
    "\n",
    "if \"love\" in tb:\n",
    "    print(\"happy\")\n",
    "if \"love\" not in tb:\n",
    "    print(\"unhappy\")"
   ]
  },
  {
   "cell_type": "code",
   "execution_count": 27,
   "metadata": {},
   "outputs": [
    {
     "name": "stdout",
     "output_type": "stream",
     "text": [
      "i\n",
      "love\n",
      "you\n"
     ]
    }
   ],
   "source": [
    "#tuple遍历\n",
    "\n",
    "for i in tb:\n",
    "    print(i)"
   ]
  },
  {
   "cell_type": "code",
   "execution_count": 32,
   "metadata": {},
   "outputs": [
    {
     "name": "stdout",
     "output_type": "stream",
     "text": [
      "(10, 20, 30)\n",
      "10\n",
      "20\n",
      "30\n",
      "('i', 'love', 'you')\n",
      "i\n",
      "love\n",
      "you\n",
      "(100, 200, 300)\n",
      "100\n",
      "200\n",
      "300\n",
      "----------\n",
      "10 20 30\n",
      "i love you\n",
      "100 200 300\n"
     ]
    }
   ],
   "source": [
    "ta = ((10,20,30),(\"i\", \"love\", \"you\"),(100,200,300))\n",
    "#嵌套元组的访问\n",
    "# 双层循环访问\n",
    "for i in ta:\n",
    "    print(i)\n",
    "    for j in i:\n",
    "        print(j)\n",
    "print(end=\"----------\")\n",
    "print()\n",
    "\n",
    "#s使用单层循环\n",
    "for i,j,k in ta:\n",
    "    print(i, j, k)\n",
    "#上述访问有个规定，即i，j，k要与元组数目相对应"
   ]
  },
  {
   "cell_type": "code",
   "execution_count": 36,
   "metadata": {},
   "outputs": [
    {
     "name": "stdout",
     "output_type": "stream",
     "text": [
      "7\n",
      "88\n",
      "2\n"
     ]
    }
   ],
   "source": [
    "# 常用元组类函数\n",
    "ta = (1,33,88,7,4,9,1)\n",
    "# len: 取长度\n",
    "print(len(ta))\n",
    "\n",
    "#max：最大值//数字和字符串混在一起报错\n",
    "#min: 最小值\n",
    "print(max(ta))\n",
    "\n",
    "#count：对某一元素计数\n",
    "print(ta.count(1))"
   ]
  },
  {
   "cell_type": "markdown",
   "metadata": {},
   "source": [
    "### tuple特殊用法---值交换"
   ]
  },
  {
   "cell_type": "code",
   "execution_count": 38,
   "metadata": {},
   "outputs": [
    {
     "name": "stdout",
     "output_type": "stream",
     "text": [
      "100 zhy\n",
      "zhy 100\n"
     ]
    }
   ],
   "source": [
    "# tuple的特殊用法\n",
    "a = 100\n",
    "b = \"zhy\"\n",
    "#对 a，b值进行交换\n",
    "print(a,b)\n",
    "a, b = b, a\n",
    "print(a,b)"
   ]
  },
  {
   "cell_type": "markdown",
   "metadata": {},
   "source": [
    "# set集合\n",
    "- 跟数学中集合的概念一致\n",
    "- 内容无序 + 不重复\n"
   ]
  },
  {
   "cell_type": "code",
   "execution_count": 43,
   "metadata": {},
   "outputs": [
    {
     "name": "stdout",
     "output_type": "stream",
     "text": [
      "set()\n",
      "{1, 2, 3, 4, 5, 6, 7, 8, 9}\n",
      "{1, 2, 3, 4, 5, 33, 11}\n"
     ]
    }
   ],
   "source": [
    "# 集合定义\n",
    "\n",
    "# 1. 通过set关键字\n",
    "sa = set()\n",
    "print(sa)\n",
    "\n",
    "li = [1,2,3,4,5,6,7,8,9,1,1,2]\n",
    "sb = set(li)\n",
    "print(sb) # 自动过滤重复元素\n",
    "\n",
    "#2. 使用大括号\n",
    "sc = {1,2,3,4,5,1,2,33,11}\n",
    "print(sc)"
   ]
  },
  {
   "cell_type": "code",
   "execution_count": 45,
   "metadata": {},
   "outputs": [
    {
     "name": "stdout",
     "output_type": "stream",
     "text": [
      "222222\n",
      "1\n",
      "2\n",
      "3\n",
      "4\n",
      "5\n",
      "33\n",
      "11\n"
     ]
    }
   ],
   "source": [
    "# in 操作\n",
    "if 2 in sc:\n",
    "    print(222222)\n",
    "    \n",
    "if 23 in sc:\n",
    "    print(ssssss)\n",
    "    \n",
    "for i in sc:\n",
    "    print(i)"
   ]
  },
  {
   "cell_type": "code",
   "execution_count": 46,
   "metadata": {},
   "outputs": [
    {
     "name": "stdout",
     "output_type": "stream",
     "text": [
      "i love you\n",
      "4 5 6\n",
      "1 2 3\n"
     ]
    }
   ],
   "source": [
    "# 集合的另一种遍历\n",
    "\n",
    "sa = {(1,2,3),(4,5,6),(\"i\",\"love\",\"you\")}\n",
    "for i,j,k in sa:\n",
    "    print(i,j,k)"
   ]
  },
  {
   "cell_type": "code",
   "execution_count": 51,
   "metadata": {},
   "outputs": [
    {
     "name": "stdout",
     "output_type": "stream",
     "text": [
      "{1, 2, 3, 4, 5, 6, 7, 8}\n",
      "{8, 2, 4, 6}\n",
      "{64, 1, 4, 36, 9, 16, 49, 25}\n",
      "{1, 2, 3, 4, 5, 6, 7, 8, 9, 10, 12, 14, 15, 16, 18, 20, 21, 24, 25, 28, 30, 32, 35, 36, 40, 42, 48, 49, 56, 64}\n"
     ]
    }
   ],
   "source": [
    "#集合的生成式\n",
    "sa = {1,2,3,4,5,6,7,8}\n",
    "#利用sa 生成一个sb\n",
    "sb = {i for i in sa}\n",
    "print(sb)\n",
    "\n",
    "sc = {i for i in sa if i%2== 0}\n",
    "print(sc)\n",
    "\n",
    "#双重for循环\n",
    "#把sa中每个元素的平方生成一个新集合\n",
    "# 1. 用一个for\n",
    "sd = { i**2 for i in sa}\n",
    "print(sd)\n",
    "\n",
    "#2. 用两个for\n",
    "se = {m*n for m in sa for n in sa}\n",
    "print(se)"
   ]
  },
  {
   "cell_type": "code",
   "execution_count": 57,
   "metadata": {},
   "outputs": [
    {
     "name": "stdout",
     "output_type": "stream",
     "text": [
      "30\n",
      "{1, 2, 3, 4, 5, 6}\n",
      "None\n",
      "{1, 2, 3, 4, 5, 6, 9}\n"
     ]
    }
   ],
   "source": [
    "# 集合的内置函数\n",
    "# len：长度\n",
    "print(len(se))\n",
    "\n",
    "\n",
    "#max/min: 最值\n",
    "# add：向集合中添加元素\n",
    "\n",
    "sa = {1,2,3,4,5,6,5,4,3,2,1}\n",
    "print(sa)\n",
    "#打印结果不是sa, why？\n",
    "print(sa.add(9))\n",
    "print(sa)\n",
    "\n",
    "#clear清空"
   ]
  },
  {
   "cell_type": "code",
   "execution_count": 60,
   "metadata": {},
   "outputs": [
    {
     "name": "stdout",
     "output_type": "stream",
     "text": [
      "{1, 2, 3, 4, 6, 9}\n"
     ]
    },
    {
     "ename": "KeyError",
     "evalue": "5",
     "output_type": "error",
     "traceback": [
      "\u001b[1;31m---------------------------------------------------------------------------\u001b[0m",
      "\u001b[1;31mKeyError\u001b[0m                                  Traceback (most recent call last)",
      "\u001b[1;32m<ipython-input-60-0fa9f892ee7d>\u001b[0m in \u001b[0;36m<module>\u001b[1;34m\u001b[0m\n\u001b[0;32m      2\u001b[0m \u001b[1;31m# remove和 discard的区别\u001b[0m\u001b[1;33m\u001b[0m\u001b[1;33m\u001b[0m\u001b[1;33m\u001b[0m\u001b[0m\n\u001b[0;32m      3\u001b[0m \u001b[0mprint\u001b[0m\u001b[1;33m(\u001b[0m\u001b[0msa\u001b[0m\u001b[1;33m)\u001b[0m\u001b[1;33m\u001b[0m\u001b[1;33m\u001b[0m\u001b[0m\n\u001b[1;32m----> 4\u001b[1;33m \u001b[0msa\u001b[0m\u001b[1;33m.\u001b[0m\u001b[0mremove\u001b[0m\u001b[1;33m(\u001b[0m\u001b[1;36m5\u001b[0m\u001b[1;33m)\u001b[0m\u001b[1;33m\u001b[0m\u001b[1;33m\u001b[0m\u001b[0m\n\u001b[0m\u001b[0;32m      5\u001b[0m \u001b[0mprint\u001b[0m\u001b[1;33m(\u001b[0m\u001b[0msa\u001b[0m\u001b[1;33m)\u001b[0m\u001b[1;33m\u001b[0m\u001b[1;33m\u001b[0m\u001b[0m\n\u001b[0;32m      6\u001b[0m \u001b[0msa\u001b[0m\u001b[1;33m.\u001b[0m\u001b[0mremove\u001b[0m\u001b[1;33m(\u001b[0m\u001b[1;36m5\u001b[0m\u001b[1;33m)\u001b[0m\u001b[1;33m\u001b[0m\u001b[1;33m\u001b[0m\u001b[0m\n",
      "\u001b[1;31mKeyError\u001b[0m: 5"
     ]
    }
   ],
   "source": [
    "#删除操作\n",
    "# remove和 discard的区别\n",
    "print(sa)\n",
    "sa.remove(5)\n",
    "print(sa)\n",
    "sa.remove(5)\n",
    "# remove的值不在集合中报错\n",
    "\n",
    "#discard不报错"
   ]
  },
  {
   "cell_type": "code",
   "execution_count": 69,
   "metadata": {},
   "outputs": [
    {
     "name": "stdout",
     "output_type": "stream",
     "text": [
      "{1, 2, 3, 4, 5, 6, 7}\n",
      "{2, 3, 4, 5, 6, 7}\n"
     ]
    }
   ],
   "source": [
    "# pop弹出集合的一个内容\n",
    "#删除的内容是随机的\n",
    "sa = {1,2,3,4,5,6,7}\n",
    "print(sa)\n",
    "sa.pop()\n",
    "print(sa)\n",
    "\n",
    "\n",
    "# clear() 清空集合\n",
    "# copy() 复制集合"
   ]
  },
  {
   "cell_type": "code",
   "execution_count": 71,
   "metadata": {},
   "outputs": [
    {
     "name": "stdout",
     "output_type": "stream",
     "text": [
      "{3, 4, 5, 6, 7}\n",
      "{1, 2}\n",
      "{1, 2}\n",
      "{1, 2, 3, 4, 5, 6, 7, 22}\n"
     ]
    }
   ],
   "source": [
    "#集合的数学操作\n",
    "# intersection：交集\n",
    "sa = {1,2,3,4,5,6,7}\n",
    "sb = {3,4,5,6,7,22}\n",
    "#sa 和sb的交集\n",
    "print(sa.intersection(sb))\n",
    "\n",
    "#difference：差集\n",
    "print(sa.difference(sb))\n",
    "#差集的另一种表示\n",
    "print(sa - sb)\n",
    "\n",
    "#union: 并集  不能用+表示\n",
    "print(sa.union(sb))\n"
   ]
  },
  {
   "cell_type": "markdown",
   "metadata": {},
   "source": [
    "# frozenset冰冻集合\n",
    "- 不允许修改的集合"
   ]
  }
 ],
 "metadata": {
  "kernelspec": {
   "display_name": "Python 3",
   "language": "python",
   "name": "python3"
  },
  "language_info": {
   "codemirror_mode": {
    "name": "ipython",
    "version": 3
   },
   "file_extension": ".py",
   "mimetype": "text/x-python",
   "name": "python",
   "nbconvert_exporter": "python",
   "pygments_lexer": "ipython3",
   "version": "3.7.4"
  }
 },
 "nbformat": 4,
 "nbformat_minor": 2
}
