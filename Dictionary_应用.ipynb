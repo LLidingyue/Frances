{
 "cells": [
  {
   "cell_type": "markdown",
   "metadata": {},
   "source": [
    "# 字典"
   ]
  },
  {
   "cell_type": "code",
   "execution_count": 3,
   "metadata": {},
   "outputs": [
    {
     "name": "stdout",
     "output_type": "stream",
     "text": [
      "{'a': 1, 'b': 2, 'c': 3}\n"
     ]
    }
   ],
   "source": [
    "# copy() 复制字典\n",
    "dict1 = {'a':1,'b':2,'c':3}\n",
    "dict2 = dict1.copy()\n",
    "print(dict2)"
   ]
  },
  {
   "cell_type": "code",
   "execution_count": 4,
   "metadata": {},
   "outputs": [
    {
     "name": "stdout",
     "output_type": "stream",
     "text": [
      "{}\n"
     ]
    }
   ],
   "source": [
    "#clear() 清除整个字典 返回none\n",
    "dict1 = {'a':1,'b':2,'c':3}\n",
    "dict1.clear()\n",
    "print(dict1)"
   ]
  },
  {
   "cell_type": "code",
   "execution_count": 5,
   "metadata": {},
   "outputs": [
    {
     "name": "stdout",
     "output_type": "stream",
     "text": [
      "{'a': None, 'b': None, 'c': None} {'a': 3, 'b': 3, 'c': 3}\n"
     ]
    }
   ],
   "source": [
    "# fromkeys()  按照指定的序列为键创建字典，值都是一样的\n",
    "list1 = ['a','b','c']\n",
    "dict1 = {}.fromkeys(list1) #填充默认值是none,键值从list中获取\n",
    "dict2 = {}.fromkeys(list1,3) #指定值是3\n",
    "print(dict1,dict2)"
   ]
  },
  {
   "cell_type": "code",
   "execution_count": 6,
   "metadata": {},
   "outputs": [
    {
     "name": "stdout",
     "output_type": "stream",
     "text": [
      "2\n",
      "None\n",
      "4\n"
     ]
    }
   ],
   "source": [
    "# get() 根据键获取指定的值  找不到的键如果设默认值就返回默认值，如果没有就返回none\n",
    "dict1 = {'a':1,'b':2,'c':3}\n",
    "print(dict1.get('b'))\n",
    "print(dict1.get('d'))\n",
    "print(dict1.get('d',4))"
   ]
  },
  {
   "cell_type": "code",
   "execution_count": 7,
   "metadata": {},
   "outputs": [
    {
     "name": "stdout",
     "output_type": "stream",
     "text": [
      "a 1\n",
      "b 2\n",
      "c 3\n",
      "('a', 1)\n",
      "('b', 2)\n",
      "('c', 3)\n",
      "dict_items([('a', 1), ('b', 2), ('c', 3)])\n"
     ]
    }
   ],
   "source": [
    "# items() 将字典变成类似于元组的形式方便遍历\n",
    "dict1 = {'a':1,'b':2,'c':3}\n",
    "for k,v in dict1.items():\n",
    "    print(k,v)\n",
    "\n",
    "for i in dict1.items():\n",
    "    print(i)\n",
    "print(dict1.items())"
   ]
  },
  {
   "cell_type": "code",
   "execution_count": 8,
   "metadata": {},
   "outputs": [
    {
     "name": "stdout",
     "output_type": "stream",
     "text": [
      "1\n",
      "{'b': 2, 'c': 3}\n",
      "4\n"
     ]
    },
    {
     "ename": "KeyError",
     "evalue": "'d'",
     "output_type": "error",
     "traceback": [
      "\u001b[1;31m---------------------------------------------------------------------------\u001b[0m",
      "\u001b[1;31mKeyError\u001b[0m                                  Traceback (most recent call last)",
      "\u001b[1;32m<ipython-input-8-e42432b1873d>\u001b[0m in \u001b[0;36m<module>\u001b[1;34m\u001b[0m\n\u001b[0;32m      4\u001b[0m \u001b[0mprint\u001b[0m\u001b[1;33m(\u001b[0m\u001b[0mdict1\u001b[0m\u001b[1;33m)\u001b[0m\u001b[1;33m\u001b[0m\u001b[1;33m\u001b[0m\u001b[0m\n\u001b[0;32m      5\u001b[0m \u001b[0mprint\u001b[0m\u001b[1;33m(\u001b[0m\u001b[0mdict1\u001b[0m\u001b[1;33m.\u001b[0m\u001b[0mpop\u001b[0m\u001b[1;33m(\u001b[0m\u001b[1;34m'd'\u001b[0m\u001b[1;33m,\u001b[0m\u001b[1;36m4\u001b[0m\u001b[1;33m)\u001b[0m\u001b[1;33m)\u001b[0m\u001b[1;33m\u001b[0m\u001b[1;33m\u001b[0m\u001b[0m\n\u001b[1;32m----> 6\u001b[1;33m \u001b[0mprint\u001b[0m\u001b[1;33m(\u001b[0m\u001b[0mdict1\u001b[0m\u001b[1;33m.\u001b[0m\u001b[0mpop\u001b[0m\u001b[1;33m(\u001b[0m\u001b[1;34m'd'\u001b[0m\u001b[1;33m)\u001b[0m\u001b[1;33m)\u001b[0m\u001b[1;33m\u001b[0m\u001b[1;33m\u001b[0m\u001b[0m\n\u001b[0m",
      "\u001b[1;31mKeyError\u001b[0m: 'd'"
     ]
    }
   ],
   "source": [
    "# pop() 移除字典中指定元素  返回键所对应的值，如果键不存在，则返回默认值，如果键找不到且未设默认值，会报错\n",
    "dict1 = {'a':1,'b':2,'c':3}\n",
    "print(dict1.pop('a'))\n",
    "print(dict1)\n",
    "print(dict1.pop('d',4))\n",
    "print(dict1.pop('d'))"
   ]
  },
  {
   "cell_type": "code",
   "execution_count": null,
   "metadata": {},
   "outputs": [],
   "source": [
    "# popitem() 移除字典的键值对 返回移除的键和值\n",
    "dict1 = {'a':1,'b':2,'c':3,'e':4}\n",
    "print(dict1.popitem())\n",
    "print(dict1)"
   ]
  },
  {
   "cell_type": "code",
   "execution_count": 9,
   "metadata": {},
   "outputs": [
    {
     "name": "stdout",
     "output_type": "stream",
     "text": [
      "6\n",
      "{'a': 1, 'b': 2, 'c': 3, 'e': 4, 'm': 6}\n"
     ]
    }
   ],
   "source": [
    "# setdefault() 在字典内添加元素\n",
    "dict1 = {'a':1,'b':2,'c':3,'e':4}\n",
    "print(dict1.setdefault('m',6))\n",
    "print(dict1)"
   ]
  },
  {
   "cell_type": "code",
   "execution_count": 10,
   "metadata": {},
   "outputs": [
    {
     "name": "stdout",
     "output_type": "stream",
     "text": [
      "{'a': 4, 'b': 1, 'c': 6, 'e': 4}\n",
      "33\n"
     ]
    }
   ],
   "source": [
    "# update() 修改字典中的值\n",
    "dict1 = {'a':1,'b':2,'c':3,'e':4}\n",
    "dict1.update({'a':4,'c':6,'b':1})\n",
    "print(dict1)\n",
    "\n",
    "\n",
    "dict1['e'] = 33\n",
    "print(dict1.get('e'))"
   ]
  },
  {
   "cell_type": "markdown",
   "metadata": {},
   "source": [
    "### 写一个程序来管理用于登陆系统的用户信息。名字和密码，登录用户账号建立后，已存在用户可以直接登录，新用户不能用已注册的名字建立账号\n"
   ]
  },
  {
   "cell_type": "code",
   "execution_count": 2,
   "metadata": {},
   "outputs": [
    {
     "name": "stdout",
     "output_type": "stream",
     "text": [
      "注册成功！\n",
      "{'zhy': 'hhh', 'ldy': '1112', 'donkey': '123'}\n",
      "用户未注册\n"
     ]
    }
   ],
   "source": [
    "user_pass = {\"zhy\":\"hhh\",\"ldy\":\"1112\"}\n",
    "def create_user(username,password):\n",
    "    usernames = user_pass.keys()\n",
    "    \n",
    "    if username in usernames:\n",
    "        print(\"该用户名已被注册\")\n",
    "    else:\n",
    "        user_pass[username] = password\n",
    "        print(\"注册成功！\")\n",
    "create_user(\"donkey\",\"123\")\n",
    "print(user_pass)\n",
    "\n",
    "def login_user(username,password):\n",
    "    usernames = user_pass.keys()\n",
    "    \n",
    "    if username not in usernames:\n",
    "        print(\"用户未注册\")\n",
    "    elif password != user_pass[username]:\n",
    "        print(\"密码错误\")\n",
    "    else:\n",
    "        print(\"登陆成功\")\n",
    "login_user(\"zhhy\",\"123\")"
   ]
  },
  {
   "cell_type": "code",
   "execution_count": null,
   "metadata": {},
   "outputs": [],
   "source": []
  }
 ],
 "metadata": {
  "kernelspec": {
   "display_name": "Python 3",
   "language": "python",
   "name": "python3"
  },
  "language_info": {
   "codemirror_mode": {
    "name": "ipython",
    "version": 3
   },
   "file_extension": ".py",
   "mimetype": "text/x-python",
   "name": "python",
   "nbconvert_exporter": "python",
   "pygments_lexer": "ipython3",
   "version": "3.7.4"
  }
 },
 "nbformat": 4,
 "nbformat_minor": 2
}
