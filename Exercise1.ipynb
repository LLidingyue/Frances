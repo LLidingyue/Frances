{
 "cells": [
  {
   "cell_type": "markdown",
   "metadata": {},
   "source": [
    "### 编写程序，要求用户输入姓名并且打印“你好，姓名”"
   ]
  },
  {
   "cell_type": "code",
   "execution_count": 1,
   "metadata": {},
   "outputs": [
    {
     "name": "stdout",
     "output_type": "stream",
     "text": [
      "请输入你的姓名：傻逼\n",
      "你好，傻逼\n"
     ]
    }
   ],
   "source": [
    "name = input(\"请输入你的姓名：\")\n",
    "print(\"你好，\" + name)"
   ]
  },
  {
   "cell_type": "markdown",
   "metadata": {},
   "source": [
    "### 要求用户输入1-100之间的整数并判断，符合要求输出good，否则输出bad"
   ]
  },
  {
   "cell_type": "code",
   "execution_count": 6,
   "metadata": {},
   "outputs": [
    {
     "name": "stdout",
     "output_type": "stream",
     "text": [
      "请输入1-100之间的数字: 88\n",
      "good\n"
     ]
    }
   ],
   "source": [
    "num = input(\"请输入1-100之间的数字: \")\n",
    "if num.isdigit():  #判断输入的内容是否为数字\n",
    "    num = int(num)\n",
    "    if(1 <= num <= 100): #可以三个连着的不等式\n",
    "        print(\"good\")\n",
    "    else:\n",
    "        print(\"bad\")\n",
    "else:\n",
    "    print(\"bad\")"
   ]
  },
  {
   "cell_type": "markdown",
   "metadata": {},
   "source": [
    "### 10 < cost <50的等价表达式 "
   ]
  },
  {
   "cell_type": "code",
   "execution_count": 9,
   "metadata": {
    "scrolled": true
   },
   "outputs": [
    {
     "data": {
      "text/plain": [
       "True"
      ]
     },
     "execution_count": 9,
     "metadata": {},
     "output_type": "execute_result"
    }
   ],
   "source": [
    "cost = 40\n",
    "#10 < cost < 50\n",
    "(10<cost)and(cost<50)\n"
   ]
  },
  {
   "cell_type": "markdown",
   "metadata": {},
   "source": [
    "### 使用int()将小数转化为整数，结果是向上取整还是向下"
   ]
  },
  {
   "cell_type": "code",
   "execution_count": 4,
   "metadata": {},
   "outputs": [
    {
     "name": "stdout",
     "output_type": "stream",
     "text": [
      "3\n"
     ]
    }
   ],
   "source": [
    "print(int(3.9))"
   ]
  },
  {
   "cell_type": "markdown",
   "metadata": {},
   "source": [
    "### 判断给定年份是否为闰年：\n"
   ]
  },
  {
   "cell_type": "code",
   "execution_count": 13,
   "metadata": {},
   "outputs": [
    {
     "name": "stdout",
     "output_type": "stream",
     "text": [
      "请输入年份：1999\n",
      "1999不是闰年\n"
     ]
    }
   ],
   "source": [
    "year = input(\"请输入年份：\")\n",
    "if year.isdigit():\n",
    "    year = int(year)\n",
    "    if year % 4 == 0:\n",
    "        print(str(year) + \"是闰年\")\n",
    "    else:\n",
    "        print(str(year) + \"不是闰年\")\n",
    "else:\n",
    "    print(\"输入年份啊\")"
   ]
  },
  {
   "cell_type": "markdown",
   "metadata": {},
   "source": [
    "### 给用户三次机会，猜想我们程序生成的一个数字A，每次用户猜想过后会根据提示数字是否正确以及用户输入的数字是大于还是小于A，\n",
    "### 当机会用尽时提示用户已经输掉游戏"
   ]
  },
  {
   "cell_type": "code",
   "execution_count": 7,
   "metadata": {},
   "outputs": [
    {
     "name": "stdout",
     "output_type": "stream",
     "text": [
      "请输入数字: 24\n",
      "smaller\n",
      "请输入数字: 78\n",
      "bigger\n",
      "请输入数字: 56\n",
      "bigger\n",
      "机会用尽\n"
     ]
    }
   ],
   "source": [
    "import random\n",
    "secret = random.randint(1,100) #随机数生成\n",
    "times = 3\n",
    "##while times:\n",
    "for i in range(1, times+1):\n",
    "    num = input(\"请输入数字: \")\n",
    "    if num.isdigit():\n",
    "        tmp = int(num)\n",
    "        if tmp == secret:\n",
    "            print(\"right\")\n",
    "            break\n",
    "        elif tmp < secret:\n",
    "            print(\"smaller\")\n",
    "        else:\n",
    "            print(\"bigger\")\n",
    "    else:\n",
    "        print(\"请输入数字！\")\n",
    "        \n",
    "print(\"机会用尽\")      \n",
    "        "
   ]
  }
 ],
 "metadata": {
  "kernelspec": {
   "display_name": "Python 3",
   "language": "python",
   "name": "python3"
  },
  "language_info": {
   "codemirror_mode": {
    "name": "ipython",
    "version": 3
   },
   "file_extension": ".py",
   "mimetype": "text/x-python",
   "name": "python",
   "nbconvert_exporter": "python",
   "pygments_lexer": "ipython3",
   "version": "3.7.4"
  }
 },
 "nbformat": 4,
 "nbformat_minor": 2
}
