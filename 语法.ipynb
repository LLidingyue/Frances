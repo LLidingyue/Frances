{
 "cells": [
  {
   "cell_type": "code",
   "execution_count": 1,
   "metadata": {},
   "outputs": [
    {
     "name": "stdout",
     "output_type": "stream",
     "text": [
      "1567.0\n"
     ]
    }
   ],
   "source": [
    "height = 1.567e3\n",
    "print(height)"
   ]
  },
  {
   "cell_type": "code",
   "execution_count": 2,
   "metadata": {},
   "outputs": [
    {
     "name": "stdout",
     "output_type": "stream",
     "text": [
      "0\n",
      "-1\n"
     ]
    }
   ],
   "source": [
    "a = 9 % -2\n",
    "b = 8 % -2\n",
    "print(b)\n",
    "print(a)"
   ]
  },
  {
   "cell_type": "code",
   "execution_count": 6,
   "metadata": {},
   "outputs": [
    {
     "name": "stdout",
     "output_type": "stream",
     "text": [
      "20\n"
     ]
    }
   ],
   "source": [
    "#布尔值当作数字使用\n",
    "age = 19+True\n",
    "print(age)"
   ]
  },
  {
   "cell_type": "code",
   "execution_count": 7,
   "metadata": {},
   "outputs": [
    {
     "name": "stdout",
     "output_type": "stream",
     "text": [
      "False\n",
      "True\n"
     ]
    }
   ],
   "source": [
    "# IN的使用\n",
    "L = [1,2,3,5,4]\n",
    "A = 8\n",
    "AA = A in L\n",
    "print(AA)\n",
    "\n",
    "AA = A not in L\n",
    "print(AA)"
   ]
  },
  {
   "cell_type": "code",
   "execution_count": 3,
   "metadata": {},
   "outputs": [
    {
     "name": "stdout",
     "output_type": "stream",
     "text": [
      "请输入性别:woman\n",
      "woman\n",
      "你是个美女\n"
     ]
    }
   ],
   "source": [
    "#input负责接收用户输入内容\n",
    "gender = input(\"请输入性别:\")\n",
    "#input获取从键盘得到的输入，全为字符串类型\n",
    "print(gender)\n",
    "\n",
    "if gender == \"man\":\n",
    "    print(\"傻逼\")\n",
    "else:\n",
    "    print(\"你是个美女\")"
   ]
  },
  {
   "cell_type": "code",
   "execution_count": 13,
   "metadata": {},
   "outputs": [
    {
     "name": "stdout",
     "output_type": "stream",
     "text": [
      "请输入成绩，必须为数字: 90\n",
      "成绩优秀\n"
     ]
    }
   ],
   "source": [
    "#考试成绩判断 成绩由用户输入\n",
    "#90以上为优秀 80-90良 70-80中\n",
    "#多分枝结构  elif== else if\n",
    "#python中没有switch语句\n",
    "\n",
    "\n",
    "\n",
    "score = input(\"请输入成绩，必须为数字: \")\n",
    "score = int(score) #解决输入内容时字符串的问题，将其转化为数字类型\n",
    "if score >= 90:\n",
    "    print(\"成绩优秀\")\n",
    "elif score >= 80:\n",
    "    print(\"成绩良好\")\n",
    "elif score >= 70:\n",
    "    print(\"成绩中等\")\n",
    "elif score >= 60:\n",
    "    print(\"成绩还行\")\n",
    "else:\n",
    "    print(\"不及格！\")\n",
    "                \n"
   ]
  },
  {
   "cell_type": "code",
   "execution_count": 15,
   "metadata": {},
   "outputs": [
    {
     "name": "stdout",
     "output_type": "stream",
     "text": [
      "you're gorgerous\n",
      "ugly and stupid\n",
      "ugly and stupid\n",
      "I love zhy\n"
     ]
    }
   ],
   "source": [
    "#循环语句\n",
    "# for循环 语法\n",
    "#  for 变量 in 序列:\n",
    "#        语句1\n",
    "#        语句2\n",
    "\n",
    "#for  else  用来进行循环的收尾\n",
    "\n",
    "stu_list = ['zhy','zht','ldy']\n",
    "for stu in stu_list:\n",
    "    if stu == \"zhy\":\n",
    "        print(\"you're gorgerous\")\n",
    "    else:\n",
    "        print(\"ugly and stupid\")\n",
    "else:\n",
    "    print(\"I love zhy\")\n",
    "    \n",
    "    \n",
    "\n"
   ]
  },
  {
   "cell_type": "code",
   "execution_count": 17,
   "metadata": {},
   "outputs": [
    {
     "name": "stdout",
     "output_type": "stream",
     "text": [
      "2\n",
      "4\n",
      "5\n",
      "0\n",
      "找到数字\n"
     ]
    }
   ],
   "source": [
    "#break ：无条件结束整个循环，循环猝死\n",
    "#确定数字队列中是否包含某一数字，找到后不再继续\n",
    "\n",
    "dig_list = [2,4,5,0,99,33,23]\n",
    "\n",
    "for dig in dig_list:\n",
    "    if dig == 99:\n",
    "        print(\"找到数字\")\n",
    "        break\n",
    "    else:\n",
    "        print(dig)"
   ]
  },
  {
   "cell_type": "code",
   "execution_count": 21,
   "metadata": {},
   "outputs": [
    {
     "name": "stdout",
     "output_type": "stream",
     "text": [
      "2\n",
      "GOOD\n",
      "4\n",
      "GOOD\n",
      "6\n",
      "GOOD\n",
      "8\n",
      "GOOD\n",
      "10\n",
      "GOOD\n"
     ]
    }
   ],
   "source": [
    "#continue结束本次循环\n",
    "\n",
    "#在数字1-10中寻找偶数并打印\n",
    "\n",
    "\n",
    "dig_list = [1,2,3,4,5,6,7,8,9,10]\n",
    "'''\n",
    "for dig in dig_list:\n",
    "    if dig % 2 == 0:\n",
    "        print(dig)\n",
    "        print(\"good\")\n",
    "    else:\n",
    "        continue\n",
    "'''\n",
    "\n",
    "#与上述等价\n",
    "for dig in dig_list:\n",
    "    if dig % 2 == 1:\n",
    "        continue\n",
    "    else:\n",
    "        print(dig)\n",
    "        print(\"GOOD\")"
   ]
  },
  {
   "cell_type": "code",
   "execution_count": 22,
   "metadata": {},
   "outputs": [
    {
     "name": "stdout",
     "output_type": "stream",
     "text": [
      "young\n"
     ]
    }
   ],
   "source": [
    "#pass（单纯占位符）代表这句话什么也不做，没有跳过功能\n",
    "#案例1\n",
    "\n",
    "age = 19\n",
    "if age > 19:\n",
    "    pass\n",
    "\n",
    "else:\n",
    "    print(\"young\")"
   ]
  },
  {
   "cell_type": "code",
   "execution_count": 27,
   "metadata": {},
   "outputs": [
    {
     "name": "stdout",
     "output_type": "stream",
     "text": [
      "5050\n",
      "1\n",
      "2\n",
      "3\n",
      "4\n",
      "5\n",
      "6\n",
      "7\n",
      "8\n",
      "9\n"
     ]
    }
   ],
   "source": [
    "# range函数 \n",
    "#生成有序数列  // 生成数字队列可以定制\n",
    "# range(1,100) 数字只有1-99 区间是左闭右开\n",
    "\n",
    "dig_list = range(1,101)\n",
    "sum = 0\n",
    "for dig in dig_list:\n",
    "    sum = sum + dig\n",
    "print(sum)\n",
    "\n",
    "\n",
    "for i in range(1,10):\n",
    "    print(i)\n"
   ]
  },
  {
   "cell_type": "code",
   "execution_count": 28,
   "metadata": {},
   "outputs": [
    {
     "name": "stdout",
     "output_type": "stream",
     "text": [
      "11\n"
     ]
    }
   ],
   "source": [
    "#while循环  当条件成立时进行循环\n",
    "\n",
    "#若年利率是6.7%，多少年后本钱会翻倍\n",
    "\n",
    "pure = 10000\n",
    "year = 0\n",
    "\n",
    "while pure < 20000:\n",
    "    pure = pure * (1+0.067)\n",
    "    year += 1\n",
    "    \n",
    "print(year)"
   ]
  },
  {
   "cell_type": "code",
   "execution_count": 2,
   "metadata": {},
   "outputs": [
    {
     "name": "stdout",
     "output_type": "stream",
     "text": [
      "函数结束\n",
      "热爱生活\n",
      "一切顺利\n"
     ]
    }
   ],
   "source": [
    "#函数定义\n",
    "#1. def关键字，后跟一个空格\n",
    "#2. 大驼峰命名只给类用\n",
    "#3. 括号与冒号不省略，括号内可以自由参数  函数内所有代码缩进\n",
    "\n",
    "def func():\n",
    "    print(\"热爱生活\")\n",
    "    print(\"一切顺利\")    \n",
    "print(\"函数结束\")\n",
    "\n",
    "#函数使用\n",
    "#直接写出函数名，后小括号不省，后内容根据情况\n",
    "func()\n"
   ]
  },
  {
   "cell_type": "code",
   "execution_count": 4,
   "metadata": {},
   "outputs": [
    {
     "name": "stdout",
     "output_type": "stream",
     "text": [
      "zhy,你好\n",
      "zhy,你看见我的狗了吗？\n",
      "ldy,你好\n",
      "ldy,你看见我的狗了吗？\n"
     ]
    }
   ],
   "source": [
    "#函数的参数和返回值\n",
    "\n",
    "#参数\n",
    "'''\n",
    "    形参：在函数定义的时候用到的参数，无具体值，只是占位符号\n",
    "    实参：调用函数时输入的值\n",
    "'''\n",
    "#返回值\n",
    "'''\n",
    "    调用函数的时候一个执行结果 \n",
    "    使用return返回结果\n",
    "    如果没有值需要返回，使用 return None表示函数结束\n",
    "    函数一旦执行return，函数立即结束。如果没有return 默认返回none\n",
    "'''\n",
    "\n",
    "#实际案例\n",
    "#person只是一个符号\n",
    "#调用时用另一个\n",
    "def hello(person):\n",
    "    print(\"{0},你好\".format(person))\n",
    "    print(\"{},你看见我的狗了吗？\".format(person))\n",
    "p = \"zhy\" \n",
    "#调用函数，把 P 作为实参传入\n",
    "hello(p)\n",
    " \n",
    "p = \"ldy\"\n",
    "hello(p)"
   ]
  },
  {
   "cell_type": "markdown",
   "metadata": {},
   "source": [
    "# help负责提供帮助"
   ]
  },
  {
   "cell_type": "code",
   "execution_count": 5,
   "metadata": {},
   "outputs": [
    {
     "name": "stdout",
     "output_type": "stream",
     "text": [
      "Help on built-in function print in module builtins:\n",
      "\n",
      "print(...)\n",
      "    print(value, ..., sep=' ', end='\\n', file=sys.stdout, flush=False)\n",
      "    \n",
      "    Prints the values to a stream, or to sys.stdout by default.\n",
      "    Optional keyword arguments:\n",
      "    file:  a file-like object (stream); defaults to the current sys.stdout.\n",
      "    sep:   string inserted between values, default a space.\n",
      "    end:   string appended after the last value, default a newline.\n",
      "    flush: whether to forcibly flush the stream.\n",
      "\n"
     ]
    }
   ],
   "source": [
    "help(print)"
   ]
  },
  {
   "cell_type": "code",
   "execution_count": 16,
   "metadata": {},
   "outputs": [
    {
     "name": "stdout",
     "output_type": "stream",
     "text": [
      "1  \n",
      "2  4  \n",
      "3  6  9  \n",
      "4  8  12  16  \n",
      "5  10  15  20  25  \n",
      "6  12  18  24  30  36  \n",
      "7  14  21  28  35  42  49  \n",
      "8  16  24  32  40  48  56  64  \n",
      "9  18  27  36  45  54  63  72  81  \n"
     ]
    }
   ],
   "source": [
    "#99乘法表\n",
    "#v1\n",
    "for i in range(1, 10):#控制外循环1-9\n",
    "    for j in range(1, i+1):#内循环，从第一个数字开始打印和行数相同的数量\n",
    "        print(i*j, end=\"  \")#end中的内容在输出后补充输出的内容\n",
    "    print()#内循环每结束一次换个行"
   ]
  },
  {
   "cell_type": "code",
   "execution_count": 10,
   "metadata": {},
   "outputs": [
    {
     "name": "stdout",
     "output_type": "stream",
     "text": [
      "1  \n",
      "2  4  \n",
      "3  6  9  \n",
      "4  8  12  16  \n",
      "5  10  15  20  25  \n",
      "6  12  18  24  30  36  \n",
      "7  14  21  28  35  42  49  \n",
      "8  16  24  32  40  48  56  64  \n",
      "9  18  27  36  45  54  63  72  81  \n"
     ]
    }
   ],
   "source": [
    "#用函数打印99乘法表\n",
    "def mul_jiu():\n",
    "    for i in range(1, 10):#控制外循环1-9\n",
    "        for j in range(1, i+1):#内循环，从第一个数字开始打印和行数相同的数量\n",
    "            print(i*j, end=\"  \")#end中的内容在输出后补充输出的内容\n",
    "        print()#内循环每结束一次换个行\n",
    "    return None\n",
    "mul_jiu()"
   ]
  },
  {
   "cell_type": "code",
   "execution_count": 8,
   "metadata": {},
   "outputs": [
    {
     "name": "stdout",
     "output_type": "stream",
     "text": [
      "1  \n",
      "2  4  \n",
      "3  6  9  \n",
      "4  8  12  16  \n",
      "5  10  15  20  25  \n",
      "6  12  18  24  30  36  \n",
      "7  14  21  28  35  42  49  \n",
      "8  16  24  32  40  48  56  64  \n",
      "9  18  27  36  45  54  63  72  81  \n"
     ]
    }
   ],
   "source": [
    "#函数改造\n",
    "def printLine(line_num):\n",
    "    '''\n",
    "    line_num代表行号\n",
    "    \n",
    "    打印一行99乘法表\n",
    "    '''\n",
    "    for i in range(1, line_num + 1):\n",
    "        print(line_num * i, end=\"  \")\n",
    "    print()\n",
    "    \n",
    "def jiujiu():\n",
    "    for o in range(1, 10):  #控制外循环1-9\n",
    "        printLine(o) \n",
    "    return None\n",
    "jiujiu()"
   ]
  },
  {
   "cell_type": "code",
   "execution_count": 36,
   "metadata": {},
   "outputs": [
    {
     "name": "stdout",
     "output_type": "stream",
     "text": [
      "3\n",
      "12\n",
      "100\n",
      "3\n",
      "30\n",
      "3\n",
      "30\n"
     ]
    }
   ],
   "source": [
    "#参数详解\n",
    "'''\n",
    "    普通参数/位置参数\n",
    "    默认参数\n",
    "    关键字参数\n",
    "    收集参数\n",
    "'''\n",
    "#普通参数案例\n",
    "def normal_para(one, two, three):\n",
    "    print(one + two)\n",
    "    return None\n",
    "normal_para(1,2,7)\n",
    "\n",
    "#默认参数案例  不给参数就用默认值 给了参数用给定值\n",
    "def default_para(one, two, three=100):\n",
    "    print(one + two)\n",
    "    print(three)\n",
    "    return  None\n",
    "default_para(2,10)\n",
    "\n",
    "#关键字参数  摆脱了位置的束缚明确了某个数具体的值是多少\n",
    "def keys_para(one, two, three):\n",
    "    print(one + two)\n",
    "    print(three)\n",
    "    return None\n",
    "\n",
    "keys_para(one=1, two=2, three=30)\n",
    "\n",
    "keys_para(three=30, two=2, one=1)"
   ]
  },
  {
   "cell_type": "code",
   "execution_count": 5,
   "metadata": {},
   "outputs": [
    {
     "name": "stdout",
     "output_type": "stream",
     "text": [
      "Let's Go\n",
      "let's Go\n",
      "c:\\User\n"
     ]
    }
   ],
   "source": [
    "#str字符串\n",
    "'''\n",
    "str\n",
    "转义字符\n",
    "格式化\n",
    "内建函数\n",
    "'''\n",
    "#字符串 ：表示文字信息 单引号双引号三引号括起来\n",
    "#转义字符：特色方法表示一系列不便写出的内容-->回车 换行 退格  出现反斜杠\n",
    "#不停操作系统有不同表示  windows: \\n 都可用 Linux: \\r\\n\n",
    "#----------------------单个反斜杠表示此行未结束需要下一行继续\n",
    "s = 'Let\\'s Go'\n",
    "print(s)\n",
    "\n",
    "s = \"let's Go\"\n",
    "print(s)\n",
    "\n",
    "#表示C:\\User\\admuin\n",
    "s = \"c:\\\\User\" #\\U是python特殊用法所以用双斜杠\n",
    "\n",
    "print(s)\n"
   ]
  },
  {
   "cell_type": "code",
   "execution_count": 9,
   "metadata": {},
   "outputs": [
    {
     "name": "stdout",
     "output_type": "stream",
     "text": [
      "l love %s\n",
      "l love donkey\n",
      "I love sleeping\n",
      "I love 100\n",
      "I'm 19 years old\n",
      "I'm 23.2KG weight, 1.76M height\n",
      "I love apple\n"
     ]
    }
   ],
   "source": [
    "#格式化 \n",
    "#字符串按照一定格式进行打印和填充\n",
    "#传统格式化方法  使用% 也叫做占位符\n",
    "# %s 表示简单字符串\n",
    "s = \"l love %s\"\n",
    "print(s)\n",
    "print(s%\"donkey\")  #引号中内容替代%s\n",
    "\n",
    "#-----------------------------------\n",
    "print(\"I love %s\"%\"sleeping\")\n",
    "print(\"I love %s\"%100)\n",
    "#占位符一般只能被同类型替换，or替换类型被转换成占位符的类型\n",
    "s = \"I'm %d years old\"\n",
    "print(s%19)\n",
    "\n",
    "s = \"I'm %.1fKG weight, %.2fM height\"\n",
    "print(s%(23.2, 1.76))\n",
    "print(\"I love %s\"%\"apple\")"
   ]
  },
  {
   "cell_type": "code",
   "execution_count": 32,
   "metadata": {},
   "outputs": [
    {
     "name": "stdout",
     "output_type": "stream",
     "text": [
      "hello world\n",
      "hello world!\n",
      "world hello!\n",
      "我们是tuling, 网址是www.baidu.com, wang最帅\n"
     ]
    }
   ],
   "source": [
    "#format格式化 ：用函数形式进行格式化，代替以前的百分号\n",
    "#不指定位置，按顺序读取\n",
    "S = \"{} {}\"\n",
    "print(S.format(\"hello\", \"world\"))\n",
    "#-------------------------\n",
    "s = \"{} {}!\".format(\"hello\", \"world\")\n",
    "print(s)\n",
    "#-------------------------\n",
    "s = \"{1} {0}!\".format(\"hello\", \"world\")\n",
    "print(s)\n",
    "\n",
    "#使用参数命名\n",
    "s = \"我们是{school_name}, 网址是{url}, {teacher}最帅\"\n",
    "s = s.format(school_name=\"tuling\", url=\"www.baidu.com\", teacher=\"wang\" )\n",
    "print(s)"
   ]
  },
  {
   "cell_type": "code",
   "execution_count": 35,
   "metadata": {},
   "outputs": [
    {
     "name": "stdout",
     "output_type": "stream",
     "text": [
      "我们是tuling, 网址是www.baidu.com, wang最帅\n"
     ]
    }
   ],
   "source": [
    "#通过字典设置参数，需要解包\n",
    "#使用参数命名\n",
    "s = \"我们是{school_name}, 网址是{url}, {teacher}最帅\"\n",
    "s_dict = {\"school_name\":\"tuling\",\\\n",
    "          \"url\":\"www.baidu.com\",\n",
    "          \"teacher\":\"wang\"}\n",
    "# **是解包操作，后面会讲到\n",
    "s = s.format(**s_dict)\n",
    "print(s)"
   ]
  },
  {
   "cell_type": "code",
   "execution_count": 36,
   "metadata": {},
   "outputs": [
    {
     "name": "stdout",
     "output_type": "stream",
     "text": [
      "Help on class str in module builtins:\n",
      "\n",
      "class str(object)\n",
      " |  str(object='') -> str\n",
      " |  str(bytes_or_buffer[, encoding[, errors]]) -> str\n",
      " |  \n",
      " |  Create a new string object from the given object. If encoding or\n",
      " |  errors is specified, then the object must expose a data buffer\n",
      " |  that will be decoded using the given encoding and error handler.\n",
      " |  Otherwise, returns the result of object.__str__() (if defined)\n",
      " |  or repr(object).\n",
      " |  encoding defaults to sys.getdefaultencoding().\n",
      " |  errors defaults to 'strict'.\n",
      " |  \n",
      " |  Methods defined here:\n",
      " |  \n",
      " |  __add__(self, value, /)\n",
      " |      Return self+value.\n",
      " |  \n",
      " |  __contains__(self, key, /)\n",
      " |      Return key in self.\n",
      " |  \n",
      " |  __eq__(self, value, /)\n",
      " |      Return self==value.\n",
      " |  \n",
      " |  __format__(self, format_spec, /)\n",
      " |      Return a formatted version of the string as described by format_spec.\n",
      " |  \n",
      " |  __ge__(self, value, /)\n",
      " |      Return self>=value.\n",
      " |  \n",
      " |  __getattribute__(self, name, /)\n",
      " |      Return getattr(self, name).\n",
      " |  \n",
      " |  __getitem__(self, key, /)\n",
      " |      Return self[key].\n",
      " |  \n",
      " |  __getnewargs__(...)\n",
      " |  \n",
      " |  __gt__(self, value, /)\n",
      " |      Return self>value.\n",
      " |  \n",
      " |  __hash__(self, /)\n",
      " |      Return hash(self).\n",
      " |  \n",
      " |  __iter__(self, /)\n",
      " |      Implement iter(self).\n",
      " |  \n",
      " |  __le__(self, value, /)\n",
      " |      Return self<=value.\n",
      " |  \n",
      " |  __len__(self, /)\n",
      " |      Return len(self).\n",
      " |  \n",
      " |  __lt__(self, value, /)\n",
      " |      Return self<value.\n",
      " |  \n",
      " |  __mod__(self, value, /)\n",
      " |      Return self%value.\n",
      " |  \n",
      " |  __mul__(self, value, /)\n",
      " |      Return self*value.\n",
      " |  \n",
      " |  __ne__(self, value, /)\n",
      " |      Return self!=value.\n",
      " |  \n",
      " |  __repr__(self, /)\n",
      " |      Return repr(self).\n",
      " |  \n",
      " |  __rmod__(self, value, /)\n",
      " |      Return value%self.\n",
      " |  \n",
      " |  __rmul__(self, value, /)\n",
      " |      Return value*self.\n",
      " |  \n",
      " |  __sizeof__(self, /)\n",
      " |      Return the size of the string in memory, in bytes.\n",
      " |  \n",
      " |  __str__(self, /)\n",
      " |      Return str(self).\n",
      " |  \n",
      " |  capitalize(self, /)\n",
      " |      Return a capitalized version of the string.\n",
      " |      \n",
      " |      More specifically, make the first character have upper case and the rest lower\n",
      " |      case.\n",
      " |  \n",
      " |  casefold(self, /)\n",
      " |      Return a version of the string suitable for caseless comparisons.\n",
      " |  \n",
      " |  center(self, width, fillchar=' ', /)\n",
      " |      Return a centered string of length width.\n",
      " |      \n",
      " |      Padding is done using the specified fill character (default is a space).\n",
      " |  \n",
      " |  count(...)\n",
      " |      S.count(sub[, start[, end]]) -> int\n",
      " |      \n",
      " |      Return the number of non-overlapping occurrences of substring sub in\n",
      " |      string S[start:end].  Optional arguments start and end are\n",
      " |      interpreted as in slice notation.\n",
      " |  \n",
      " |  encode(self, /, encoding='utf-8', errors='strict')\n",
      " |      Encode the string using the codec registered for encoding.\n",
      " |      \n",
      " |      encoding\n",
      " |        The encoding in which to encode the string.\n",
      " |      errors\n",
      " |        The error handling scheme to use for encoding errors.\n",
      " |        The default is 'strict' meaning that encoding errors raise a\n",
      " |        UnicodeEncodeError.  Other possible values are 'ignore', 'replace' and\n",
      " |        'xmlcharrefreplace' as well as any other name registered with\n",
      " |        codecs.register_error that can handle UnicodeEncodeErrors.\n",
      " |  \n",
      " |  endswith(...)\n",
      " |      S.endswith(suffix[, start[, end]]) -> bool\n",
      " |      \n",
      " |      Return True if S ends with the specified suffix, False otherwise.\n",
      " |      With optional start, test S beginning at that position.\n",
      " |      With optional end, stop comparing S at that position.\n",
      " |      suffix can also be a tuple of strings to try.\n",
      " |  \n",
      " |  expandtabs(self, /, tabsize=8)\n",
      " |      Return a copy where all tab characters are expanded using spaces.\n",
      " |      \n",
      " |      If tabsize is not given, a tab size of 8 characters is assumed.\n",
      " |  \n",
      " |  find(...)\n",
      " |      S.find(sub[, start[, end]]) -> int\n",
      " |      \n",
      " |      Return the lowest index in S where substring sub is found,\n",
      " |      such that sub is contained within S[start:end].  Optional\n",
      " |      arguments start and end are interpreted as in slice notation.\n",
      " |      \n",
      " |      Return -1 on failure.\n",
      " |  \n",
      " |  format(...)\n",
      " |      S.format(*args, **kwargs) -> str\n",
      " |      \n",
      " |      Return a formatted version of S, using substitutions from args and kwargs.\n",
      " |      The substitutions are identified by braces ('{' and '}').\n",
      " |  \n",
      " |  format_map(...)\n",
      " |      S.format_map(mapping) -> str\n",
      " |      \n",
      " |      Return a formatted version of S, using substitutions from mapping.\n",
      " |      The substitutions are identified by braces ('{' and '}').\n",
      " |  \n",
      " |  index(...)\n",
      " |      S.index(sub[, start[, end]]) -> int\n",
      " |      \n",
      " |      Return the lowest index in S where substring sub is found, \n",
      " |      such that sub is contained within S[start:end].  Optional\n",
      " |      arguments start and end are interpreted as in slice notation.\n",
      " |      \n",
      " |      Raises ValueError when the substring is not found.\n",
      " |  \n",
      " |  isalnum(self, /)\n",
      " |      Return True if the string is an alpha-numeric string, False otherwise.\n",
      " |      \n",
      " |      A string is alpha-numeric if all characters in the string are alpha-numeric and\n",
      " |      there is at least one character in the string.\n",
      " |  \n",
      " |  isalpha(self, /)\n",
      " |      Return True if the string is an alphabetic string, False otherwise.\n",
      " |      \n",
      " |      A string is alphabetic if all characters in the string are alphabetic and there\n",
      " |      is at least one character in the string.\n",
      " |  \n",
      " |  isascii(self, /)\n",
      " |      Return True if all characters in the string are ASCII, False otherwise.\n",
      " |      \n",
      " |      ASCII characters have code points in the range U+0000-U+007F.\n",
      " |      Empty string is ASCII too.\n",
      " |  \n",
      " |  isdecimal(self, /)\n",
      " |      Return True if the string is a decimal string, False otherwise.\n",
      " |      \n",
      " |      A string is a decimal string if all characters in the string are decimal and\n",
      " |      there is at least one character in the string.\n",
      " |  \n",
      " |  isdigit(self, /)\n",
      " |      Return True if the string is a digit string, False otherwise.\n",
      " |      \n",
      " |      A string is a digit string if all characters in the string are digits and there\n",
      " |      is at least one character in the string.\n",
      " |  \n",
      " |  isidentifier(self, /)\n",
      " |      Return True if the string is a valid Python identifier, False otherwise.\n",
      " |      \n",
      " |      Use keyword.iskeyword() to test for reserved identifiers such as \"def\" and\n",
      " |      \"class\".\n",
      " |  \n",
      " |  islower(self, /)\n",
      " |      Return True if the string is a lowercase string, False otherwise.\n",
      " |      \n",
      " |      A string is lowercase if all cased characters in the string are lowercase and\n",
      " |      there is at least one cased character in the string.\n",
      " |  \n",
      " |  isnumeric(self, /)\n",
      " |      Return True if the string is a numeric string, False otherwise.\n",
      " |      \n",
      " |      A string is numeric if all characters in the string are numeric and there is at\n",
      " |      least one character in the string.\n",
      " |  \n",
      " |  isprintable(self, /)\n",
      " |      Return True if the string is printable, False otherwise.\n",
      " |      \n",
      " |      A string is printable if all of its characters are considered printable in\n",
      " |      repr() or if it is empty.\n",
      " |  \n",
      " |  isspace(self, /)\n",
      " |      Return True if the string is a whitespace string, False otherwise.\n",
      " |      \n",
      " |      A string is whitespace if all characters in the string are whitespace and there\n",
      " |      is at least one character in the string.\n",
      " |  \n",
      " |  istitle(self, /)\n",
      " |      Return True if the string is a title-cased string, False otherwise.\n",
      " |      \n",
      " |      In a title-cased string, upper- and title-case characters may only\n",
      " |      follow uncased characters and lowercase characters only cased ones.\n",
      " |  \n",
      " |  isupper(self, /)\n",
      " |      Return True if the string is an uppercase string, False otherwise.\n",
      " |      \n",
      " |      A string is uppercase if all cased characters in the string are uppercase and\n",
      " |      there is at least one cased character in the string.\n",
      " |  \n",
      " |  join(self, iterable, /)\n",
      " |      Concatenate any number of strings.\n",
      " |      \n",
      " |      The string whose method is called is inserted in between each given string.\n",
      " |      The result is returned as a new string.\n",
      " |      \n",
      " |      Example: '.'.join(['ab', 'pq', 'rs']) -> 'ab.pq.rs'\n",
      " |  \n",
      " |  ljust(self, width, fillchar=' ', /)\n",
      " |      Return a left-justified string of length width.\n",
      " |      \n",
      " |      Padding is done using the specified fill character (default is a space).\n",
      " |  \n",
      " |  lower(self, /)\n",
      " |      Return a copy of the string converted to lowercase.\n",
      " |  \n",
      " |  lstrip(self, chars=None, /)\n",
      " |      Return a copy of the string with leading whitespace removed.\n",
      " |      \n",
      " |      If chars is given and not None, remove characters in chars instead.\n",
      " |  \n",
      " |  partition(self, sep, /)\n",
      " |      Partition the string into three parts using the given separator.\n",
      " |      \n",
      " |      This will search for the separator in the string.  If the separator is found,\n",
      " |      returns a 3-tuple containing the part before the separator, the separator\n",
      " |      itself, and the part after it.\n",
      " |      \n",
      " |      If the separator is not found, returns a 3-tuple containing the original string\n",
      " |      and two empty strings.\n",
      " |  \n",
      " |  replace(self, old, new, count=-1, /)\n",
      " |      Return a copy with all occurrences of substring old replaced by new.\n",
      " |      \n",
      " |        count\n",
      " |          Maximum number of occurrences to replace.\n",
      " |          -1 (the default value) means replace all occurrences.\n",
      " |      \n",
      " |      If the optional argument count is given, only the first count occurrences are\n",
      " |      replaced.\n",
      " |  \n",
      " |  rfind(...)\n",
      " |      S.rfind(sub[, start[, end]]) -> int\n",
      " |      \n",
      " |      Return the highest index in S where substring sub is found,\n",
      " |      such that sub is contained within S[start:end].  Optional\n",
      " |      arguments start and end are interpreted as in slice notation.\n",
      " |      \n",
      " |      Return -1 on failure.\n",
      " |  \n",
      " |  rindex(...)\n",
      " |      S.rindex(sub[, start[, end]]) -> int\n",
      " |      \n",
      " |      Return the highest index in S where substring sub is found,\n",
      " |      such that sub is contained within S[start:end].  Optional\n",
      " |      arguments start and end are interpreted as in slice notation.\n",
      " |      \n",
      " |      Raises ValueError when the substring is not found.\n",
      " |  \n",
      " |  rjust(self, width, fillchar=' ', /)\n",
      " |      Return a right-justified string of length width.\n",
      " |      \n",
      " |      Padding is done using the specified fill character (default is a space).\n",
      " |  \n",
      " |  rpartition(self, sep, /)\n",
      " |      Partition the string into three parts using the given separator.\n",
      " |      \n",
      " |      This will search for the separator in the string, starting at the end. If\n",
      " |      the separator is found, returns a 3-tuple containing the part before the\n",
      " |      separator, the separator itself, and the part after it.\n",
      " |      \n",
      " |      If the separator is not found, returns a 3-tuple containing two empty strings\n",
      " |      and the original string.\n",
      " |  \n",
      " |  rsplit(self, /, sep=None, maxsplit=-1)\n",
      " |      Return a list of the words in the string, using sep as the delimiter string.\n",
      " |      \n",
      " |        sep\n",
      " |          The delimiter according which to split the string.\n",
      " |          None (the default value) means split according to any whitespace,\n",
      " |          and discard empty strings from the result.\n",
      " |        maxsplit\n",
      " |          Maximum number of splits to do.\n",
      " |          -1 (the default value) means no limit.\n",
      " |      \n",
      " |      Splits are done starting at the end of the string and working to the front.\n",
      " |  \n",
      " |  rstrip(self, chars=None, /)\n",
      " |      Return a copy of the string with trailing whitespace removed.\n",
      " |      \n",
      " |      If chars is given and not None, remove characters in chars instead.\n",
      " |  \n",
      " |  split(self, /, sep=None, maxsplit=-1)\n",
      " |      Return a list of the words in the string, using sep as the delimiter string.\n",
      " |      \n",
      " |      sep\n",
      " |        The delimiter according which to split the string.\n",
      " |        None (the default value) means split according to any whitespace,\n",
      " |        and discard empty strings from the result.\n",
      " |      maxsplit\n",
      " |        Maximum number of splits to do.\n",
      " |        -1 (the default value) means no limit.\n",
      " |  \n",
      " |  splitlines(self, /, keepends=False)\n",
      " |      Return a list of the lines in the string, breaking at line boundaries.\n",
      " |      \n",
      " |      Line breaks are not included in the resulting list unless keepends is given and\n",
      " |      true.\n",
      " |  \n",
      " |  startswith(...)\n",
      " |      S.startswith(prefix[, start[, end]]) -> bool\n",
      " |      \n",
      " |      Return True if S starts with the specified prefix, False otherwise.\n",
      " |      With optional start, test S beginning at that position.\n",
      " |      With optional end, stop comparing S at that position.\n",
      " |      prefix can also be a tuple of strings to try.\n",
      " |  \n",
      " |  strip(self, chars=None, /)\n",
      " |      Return a copy of the string with leading and trailing whitespace remove.\n",
      " |      \n",
      " |      If chars is given and not None, remove characters in chars instead.\n",
      " |  \n",
      " |  swapcase(self, /)\n",
      " |      Convert uppercase characters to lowercase and lowercase characters to uppercase.\n",
      " |  \n",
      " |  title(self, /)\n",
      " |      Return a version of the string where each word is titlecased.\n",
      " |      \n",
      " |      More specifically, words start with uppercased characters and all remaining\n",
      " |      cased characters have lower case.\n",
      " |  \n",
      " |  translate(self, table, /)\n",
      " |      Replace each character in the string using the given translation table.\n",
      " |      \n",
      " |        table\n",
      " |          Translation table, which must be a mapping of Unicode ordinals to\n",
      " |          Unicode ordinals, strings, or None.\n",
      " |      \n",
      " |      The table must implement lookup/indexing via __getitem__, for instance a\n",
      " |      dictionary or list.  If this operation raises LookupError, the character is\n",
      " |      left untouched.  Characters mapped to None are deleted.\n",
      " |  \n",
      " |  upper(self, /)\n",
      " |      Return a copy of the string converted to uppercase.\n",
      " |  \n",
      " |  zfill(self, width, /)\n",
      " |      Pad a numeric string with zeros on the left, to fill a field of the given width.\n",
      " |      \n",
      " |      The string is never truncated.\n",
      " |  \n",
      " |  ----------------------------------------------------------------------\n",
      " |  Static methods defined here:\n",
      " |  \n",
      " |  __new__(*args, **kwargs) from builtins.type\n",
      " |      Create and return a new object.  See help(type) for accurate signature.\n",
      " |  \n",
      " |  maketrans(x, y=None, z=None, /)\n",
      " |      Return a translation table usable for str.translate().\n",
      " |      \n",
      " |      If there is only one argument, it must be a dictionary mapping Unicode\n",
      " |      ordinals (integers) or characters to Unicode ordinals, strings or None.\n",
      " |      Character keys will be then converted to ordinals.\n",
      " |      If there are two arguments, they must be strings of equal length, and\n",
      " |      in the resulting dictionary, each character in x will be mapped to the\n",
      " |      character at the same position in y. If there is a third argument, it\n",
      " |      must be a string, whose characters will be mapped to None in the result.\n",
      "\n"
     ]
    }
   ],
   "source": [
    "#str中的内置函数  字符串用str表示\n",
    "help(str)"
   ]
  },
  {
   "cell_type": "markdown",
   "metadata": {},
   "source": [
    "# str内置函数\n",
    "### 查找类函数\n",
    "- 字符串查找类 ： find index islower\n",
    "- find：查找字符串中是否包含一个子串\n",
    "- index: 与find使用差不多 index找不到的话会引发异常\n",
    "- rfind  lfind ：从右往左查找  从左往右"
   ]
  },
  {
   "cell_type": "code",
   "execution_count": 15,
   "metadata": {},
   "outputs": [
    {
     "data": {
      "text/plain": [
       "7"
      ]
     },
     "execution_count": 15,
     "metadata": {},
     "output_type": "execute_result"
    }
   ],
   "source": [
    "s = \"I love donkey\"\n",
    "s1 = \"donkey\"\n",
    "#返回第一次发现这个字符串的位置\n",
    "s.find(s1)\n",
    "\n",
    "#返回-1表示没找到\n",
    "s2 = \"zhy\"\n",
    "s.find(s2)\n",
    "#s.index(s2)\n",
    "\n",
    "#-----------------------------------\n",
    "#使用的时候还可以使用区间\n",
    "s = \"I love donkey\"\n",
    "s1 = \"donkey\"\n",
    "s.rfind(s1)"
   ]
  },
  {
   "cell_type": "markdown",
   "metadata": {},
   "source": [
    "### 判断类函数\n",
    "- 此类函数的特点是一般用is开头，eg: islower\n",
    "- isalpha: 判断是否是字母，须注意两点：\n",
    "    - 此函数前提是字符串至少包含一个字母，没有就返回false\n",
    "    - 汉字被认为是alpha，所以该函数不能作为区分英文字母和汉字的表示。区分中英文还是要用unicode\n",
    "- isdigit, isnumberic, isdecimal三个判断数字的函数\n",
    "    - 此类函数不建议使用，在后期爬虫中，判断数字采用正则表达式"
   ]
  },
  {
   "cell_type": "code",
   "execution_count": null,
   "metadata": {},
   "outputs": [],
   "source": [
    "#除了字母以外有别的内容 都会返回false"
   ]
  },
  {
   "cell_type": "markdown",
   "metadata": {},
   "source": [
    "### 内容判断类\n",
    "- startswith/ensdwith : 是否以xxx开头或结尾 \n",
    "    - 检测某个字符串是否以某个子串开头，常用三个参数\n",
    "    - suffix: 被检查的字符串，必须有\n",
    "    - start: 检查范围的开始范围\n",
    "    - end:检查范围的结束范围\n",
    "- islower/isupper: 判断字符串是否是大小写  空格不影响结果 汉字字符串无所谓大小写\n"
   ]
  },
  {
   "cell_type": "code",
   "execution_count": 17,
   "metadata": {
    "scrolled": true
   },
   "outputs": [
    {
     "name": "stdout",
     "output_type": "stream",
     "text": [
      "True\n",
      "True\n",
      "True\n"
     ]
    }
   ],
   "source": [
    "zhy = \"Zhang Haoying\"\n",
    "DON = \"Donkey\"\n",
    "\n",
    "s = \"Zhang Haoying is a stupid Donkey\"\n",
    "print(s.startswith(zhy))\n",
    "print(s.endswith(DON))\n",
    "\n",
    "#--------------------------------------\n",
    "s = \"zhy is stupid donkey\"\n",
    "print(s.islower())"
   ]
  },
  {
   "cell_type": "markdown",
   "metadata": {},
   "source": [
    "### 操作类函数\n",
    "- format： 格式化用\n",
    "- strip： 主要作用删除字符串两边空格，不指定删除字符串两边哪个字符的话默认是空格 / 还有lstrip和rstrip,即删除左边或右边制定字符。这是指从头开始符合条件的连续字符。\n",
    "- join: 对字符串进行拼接"
   ]
  },
  {
   "cell_type": "code",
   "execution_count": 28,
   "metadata": {},
   "outputs": [
    {
     "name": "stdout",
     "output_type": "stream",
     "text": [
      "LLLLLLLy love donkey\n",
      "y love donkey ------\n",
      "ZHY$Donkey$stupid\n"
     ]
    }
   ],
   "source": [
    "c = \"LLLLLLLy love donkey \"\n",
    "#是否成功删除空格无法观察\n",
    "print(c.strip())\n",
    "print(c.strip(\"L\"),end=\"------\") #指定删除L\n",
    "print()\n",
    "\n",
    "#------------------------------------------\n",
    "s1 = \"$\"\n",
    "ss = [\"ZHY\",\"Donkey\",\"stupid\"]\n",
    "print(s1.join(ss))"
   ]
  },
  {
   "cell_type": "markdown",
   "metadata": {},
   "source": [
    "# list 列表\n",
    "- 一组有序数据组成的队列（不是按照大小顺序排列的）\n",
    "    - 数据有先后顺序\n",
    "    - 数据可以不是一类数据\n",
    "- list的创建\n",
    "    - 直接创建: 用中括号创建，内容直接用英文逗号隔开\n",
    "    - 使用list创建\n",
    "    - "
   ]
  },
  {
   "cell_type": "code",
   "execution_count": 29,
   "metadata": {},
   "outputs": [
    {
     "name": "stdout",
     "output_type": "stream",
     "text": [
      "[1, 2, 3, 'donkey']\n"
     ]
    }
   ],
   "source": [
    " L1 = [1,2,3,4,5]\n",
    "#list内的数据可以不是一个类型\n",
    "L2 = [1,2,3,\"donkey\"]\n",
    "print(L2)"
   ]
  },
  {
   "cell_type": "code",
   "execution_count": 30,
   "metadata": {},
   "outputs": [
    {
     "name": "stdout",
     "output_type": "stream",
     "text": [
      "[]\n",
      "<class 'list'>\n"
     ]
    }
   ],
   "source": [
    "#创建列表的第二种方式\n",
    "L3 = list()\n",
    "print(L3)\n",
    "print(type(L3))"
   ]
  },
  {
   "cell_type": "markdown",
   "metadata": {},
   "source": [
    "# 内置函数概念\n",
    "- help: 帮助函数\n",
    "- type：显示变量的类型\n",
    "- id: 显示变量的id\n",
    "- print："
   ]
  },
  {
   "cell_type": "code",
   "execution_count": 34,
   "metadata": {},
   "outputs": [
    {
     "name": "stdout",
     "output_type": "stream",
     "text": [
      "<class 'list'>\n",
      "['L', 'i', 'u', ' ', 'D', 'a', 'n', 'a']\n",
      "['Liu Dana']\n"
     ]
    }
   ],
   "source": [
    "#list创建的特例演示\n",
    "s =  \"Liu Dana\"\n",
    "L1 = list(s)\n",
    "L2 = [s]\n",
    "#此种情况用 L1=[s]\n",
    "print(type(L1))\n",
    "print(L1)\n",
    "print(L2)"
   ]
  },
  {
   "cell_type": "markdown",
   "metadata": {},
   "source": [
    "# 列表的常见操作\n",
    "- 访问\n",
    "    - 使用下标操作，也叫索引\n",
    "    - 列表的元素索引从0开始\n",
    "- 切片操作\n",
    "    - 对列表进行任意一段的截取\n",
    "    - 截取之后创建新列表"
   ]
  },
  {
   "cell_type": "code",
   "execution_count": 38,
   "metadata": {},
   "outputs": [
    {
     "name": "stdout",
     "output_type": "stream",
     "text": [
      "54\n"
     ]
    }
   ],
   "source": [
    "L1 = [22,23,54,88,19,8]\n",
    "#使用下标访问\n",
    "#记住IndexError引发的原因 下标超出范围\n",
    "print(L1[2])"
   ]
  },
  {
   "cell_type": "code",
   "execution_count": 1,
   "metadata": {},
   "outputs": [
    {
     "name": "stdout",
     "output_type": "stream",
     "text": [
      "[22, 33, 44, 55, 66]\n",
      "2238398238088\n",
      "2238398238344\n",
      "[11, 22, 33, 44]\n",
      "[33, 44, 55, 66, 77, 88, 99]\n",
      "[11, 22, 33, 44, 55, 66, 77, 88, 99]\n",
      "[11, 22, 33, 44, 55, 66, 77, 88, 99]\n",
      "[11, 33, 55, 77, 99]\n",
      "[88, 77, 66]\n",
      "[55, 66, 77]\n"
     ]
    }
   ],
   "source": [
    "# 切片操作要注意取值范围，左包括右不包括\n",
    "L1 = [11,22,33,44,55,66,77,88,99]\n",
    "#对比打印结果和下标的值\n",
    "print(L1[1:6])\n",
    "\n",
    "# 下面结果说明切片后生成的是一个全新的列表\n",
    "#通过内置函数id判断  id用来判断是否是一个变量\n",
    "L2 = L1[0:10]\n",
    "print(id(L1))\n",
    "print(id(L2))\n",
    "\n",
    "#切片下标可以为空\n",
    "print(L1[:4])\n",
    "print(L1[2:])\n",
    "print(L1[:])\n",
    "\n",
    "#分片可控制增长幅度，默认为1\n",
    "print(L1[::1]) #等价于print（L1[:])\n",
    "print(L1[::2])\n",
    "\n",
    "#下标可超出范围，超出后不再考虑多余下标内容\n",
    "#下标和增长幅度可以为负数\n",
    "#下标为负数，表明顺序从右往左，规定数组最后一个数字下标是-1\n",
    "\n",
    "#利用负数下标打印88 ,77,66\n",
    "print(L1[-2:-5:-1])\n",
    "#利用负数下标打印66，77，88\n",
    "print(L1[-5:-2:1])"
   ]
  }
 ],
 "metadata": {
  "kernelspec": {
   "display_name": "Python 3",
   "language": "python",
   "name": "python3"
  },
  "language_info": {
   "codemirror_mode": {
    "name": "ipython",
    "version": 3
   },
   "file_extension": ".py",
   "mimetype": "text/x-python",
   "name": "python",
   "nbconvert_exporter": "python",
   "pygments_lexer": "ipython3",
   "version": "3.7.4"
  }
 },
 "nbformat": 4,
 "nbformat_minor": 2
}
