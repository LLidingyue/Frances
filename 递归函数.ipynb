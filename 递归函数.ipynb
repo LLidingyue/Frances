{
 "cells": [
  {
   "cell_type": "markdown",
   "metadata": {},
   "source": [
    "# 递归函数\n",
    "- 函数直接或者间接调用自己\n",
    "- 递归分两个过程\n",
    "    - 往下调用，分解过程\n",
    "    - 往上回溯，综合过程\n",
    "- 递归注意\n",
    "    ## 一定有结束条件\n",
    "- 以资源换空间"
   ]
  },
  {
   "cell_type": "code",
   "execution_count": 6,
   "metadata": {},
   "outputs": [
    {
     "name": "stdout",
     "output_type": "stream",
     "text": [
      "6\n",
      "5\n",
      "4\n",
      "3\n",
      "2\n",
      "1\n",
      "f(6)=  720\n"
     ]
    }
   ],
   "source": [
    "#计算阶乘\n",
    "def funa(n):\n",
    "    print(n)\n",
    "    # 结束条件\n",
    "    if n == 1:\n",
    "        return 1\n",
    "    return n * funa(n-1)\n",
    "result = funa(6)\n",
    "print(\"f(6)= \",result)"
   ]
  },
  {
   "cell_type": "code",
   "execution_count": 11,
   "metadata": {},
   "outputs": [],
   "source": [
    "# 递归必须有结束条件，否则死循环\n",
    "def funb(n):\n",
    "    print(n)\n",
    "    return n * funb(n-1)\n"
   ]
  },
  {
   "cell_type": "code",
   "execution_count": 14,
   "metadata": {},
   "outputs": [
    {
     "name": "stdout",
     "output_type": "stream",
     "text": [
      "Fib(10) =  55\n"
     ]
    }
   ],
   "source": [
    "#斐波那契数列\n",
    "#1 1 2 3 5 8 13\n",
    "#f(n) = f(n-1) + f(n-2) n>=3  // f(n) = 1, n={1,2}\n",
    "def Fib(n):\n",
    "    if n == 1 or n == 2:\n",
    "        return 1\n",
    "    return Fib(n-1) + Fib(n-2)\n",
    "result = Fib(10)\n",
    "print(\"Fib(10) = \",result)"
   ]
  },
  {
   "cell_type": "markdown",
   "metadata": {},
   "source": [
    "##  汉诺塔"
   ]
  },
  {
   "cell_type": "code",
   "execution_count": 4,
   "metadata": {},
   "outputs": [
    {
     "name": "stdout",
     "output_type": "stream",
     "text": [
      "A-->C\n",
      "A-->B\n",
      "C-->B\n",
      "A-->C\n",
      "B-->A\n",
      "B-->C\n",
      "A-->C\n"
     ]
    }
   ],
   "source": [
    "\n",
    "a = 'A'\n",
    "b = 'B'\n",
    "c = 'C'\n",
    "def hano(a,b,c,n):\n",
    "    if n == 1:\n",
    "        print(\"{}-->{}\".format(a,c))\n",
    "        return None\n",
    "    if n ==2 :\n",
    "        print(\"{}-->{}\".format(a,b))\n",
    "        print(\"{}-->{}\".format(a,c))\n",
    "        print(\"{}-->{}\".format(b,c))\n",
    "        return None\n",
    "    hano(a,c,b,n-1)# 借助c 从a --> b 移动n-1个\n",
    "    print(\"{}-->{}\".format(a,c)) #将最下层最大的一个从a-->c\n",
    "    hano(b,a,c,n-1)# 借助a 从b --> 移动n-1个\n",
    "    \n",
    "    \n",
    "hano(a,b,c,3)"
   ]
  },
  {
   "cell_type": "markdown",
   "metadata": {},
   "source": [
    "# OOP\n",
    "- 思想\n",
    "    - 以模块化思想解决工程问题\n",
    "    - 面向过程 VS 面向对象\n",
    "    - 由面向过程转向面向对象\n",
    "- 常用名词\n",
    "    - OO：面型对象\n",
    "    - ooa：分析\n",
    "    - ood：设计\n",
    "    - oop：编程\n",
    "    - ooI：实现\n",
    "    - ooa -> ood -> ooi\n",
    "\n",
    "- 类 vs 对象\n",
    "    - 类：抽象，描述的是一个集合，侧重于共性\n",
    "    - 对象：具象，描述的是个体 \n",
    "- 类的内容：\n",
    "    - 动作，函数\n",
    "    - 属性，变量\n",
    "    \n",
    "- is-a\n",
    "- 定义类：class关键字\n",
    "- 类命名：\n",
    "    - 遵循大驼峰\n",
    "    - 第一个字母大写\n",
    "    "
   ]
  },
  {
   "cell_type": "code",
   "execution_count": 1,
   "metadata": {},
   "outputs": [],
   "source": [
    "##定义学生类和几个学生\n",
    "\n",
    "class Student():\n",
    "    #此处定义一个空类\n",
    "    #pass是占位用的，无意义\n",
    "    pass"
   ]
  },
  {
   "cell_type": "code",
   "execution_count": null,
   "metadata": {},
   "outputs": [],
   "source": [
    "# 定义一个对象\n",
    "zhy = Student()"
   ]
  },
  {
   "cell_type": "code",
   "execution_count": 9,
   "metadata": {},
   "outputs": [
    {
     "name": "stdout",
     "output_type": "stream",
     "text": [
      "no\n",
      "18\n",
      "Python\n",
      "Show me money\n"
     ]
    }
   ],
   "source": [
    "class PythonStu():\n",
    "    name = \"no\"\n",
    "    age = 18\n",
    "    course = \"Python\"\n",
    "    \n",
    "    '''\n",
    "    定义类中的函数\n",
    "    一般需要有self关键字\n",
    "    其余跟普通函数基本相同\n",
    "    '''\n",
    "    def Money(self): #self名称可更改 \n",
    "        print(\"Show me money\")\n",
    "        return None\n",
    "\n",
    "#实例化\n",
    "#中文能否当做变量名称 \n",
    "zhy = PythonStu()\n",
    "print(zhy.name)\n",
    "print(zhy.age)\n",
    "print(zhy.course)\n",
    "#调用Money没有输入参数\n",
    "#因为默认实例作为第一个参数传入 \n",
    "zhy.Money()"
   ]
  },
  {
   "cell_type": "markdown",
   "metadata": {},
   "source": [
    "# self\n",
    "- self可以用别的名称代替\n",
    "- self不是关键字\n",
    "- 作用是指代本身"
   ]
  },
  {
   "cell_type": "code",
   "execution_count": 2,
   "metadata": {
    "scrolled": true
   },
   "outputs": [
    {
     "name": "stdout",
     "output_type": "stream",
     "text": [
      "My name is donkey, I'm 21 years old\n"
     ]
    }
   ],
   "source": [
    "\n",
    "#实例变量可借用类的变量\n",
    "zhy = Student2()\n",
    "zhy.sayHi(\"donkey\", 21)\n"
   ]
  },
  {
   "cell_type": "markdown",
   "metadata": {},
   "source": [
    "# 访问类的属性\n",
    "- 在类里如果强制访问类的属性，则需要使用__class__, （注意前后两个下划线）\n",
    "- 类方法：定义类的方法的时候，没有self参数\n"
   ]
  },
  {
   "cell_type": "code",
   "execution_count": 14,
   "metadata": {},
   "outputs": [],
   "source": [
    "class Student():\n",
    "    #name, age是类的变量\n",
    "    #注意类的变量的定义位置和方法\n",
    "    #不需要前缀\n",
    "    name = \"图灵学院\"\n",
    "    age = 19\n",
    "    \n",
    "    def sayHi(self):\n",
    "        self.name = n\n",
    "        self.age = a\n",
    "        \n",
    "        print(\"My name is {}, I'm {} years old\".format(self.name,self.age))\n",
    "        return None\n",
    "    \n",
    "    # sayHi是类的方法\n",
    "    #如何访问类的变量\n",
    "    def sayH():\n",
    "        print(\"My name is {}, I'm {} years old\".format(self.name,self.age))\n",
    "        return None"
   ]
  },
  {
   "cell_type": "code",
   "execution_count": 19,
   "metadata": {},
   "outputs": [
    {
     "ename": "TypeError",
     "evalue": "sayHi() takes 0 positional arguments but 1 was given",
     "output_type": "error",
     "traceback": [
      "\u001b[1;31m---------------------------------------------------------------------------\u001b[0m",
      "\u001b[1;31mTypeError\u001b[0m                                 Traceback (most recent call last)",
      "\u001b[1;32m<ipython-input-19-5347f8d54538>\u001b[0m in \u001b[0;36m<module>\u001b[1;34m\u001b[0m\n\u001b[0;32m      1\u001b[0m \u001b[1;31m# 体验类方法\u001b[0m\u001b[1;33m\u001b[0m\u001b[1;33m\u001b[0m\u001b[1;33m\u001b[0m\u001b[0m\n\u001b[0;32m      2\u001b[0m \u001b[0ms\u001b[0m \u001b[1;33m=\u001b[0m \u001b[0mStudent2\u001b[0m\u001b[1;33m(\u001b[0m\u001b[1;33m)\u001b[0m\u001b[1;33m\u001b[0m\u001b[1;33m\u001b[0m\u001b[0m\n\u001b[1;32m----> 3\u001b[1;33m \u001b[0ms\u001b[0m\u001b[1;33m.\u001b[0m\u001b[0msayHi\u001b[0m\u001b[1;33m(\u001b[0m\u001b[1;33m)\u001b[0m\u001b[1;33m\u001b[0m\u001b[1;33m\u001b[0m\u001b[0m\n\u001b[0m\u001b[0;32m      4\u001b[0m \u001b[1;33m\u001b[0m\u001b[0m\n",
      "\u001b[1;31mTypeError\u001b[0m: sayHi() takes 0 positional arguments but 1 was given"
     ]
    }
   ],
   "source": [
    "# 体验类方法\n",
    "s = Student2()\n",
    "s.sayHi()\n",
    "\n"
   ]
  },
  {
   "cell_type": "markdown",
   "metadata": {},
   "source": [
    "# 构造函数\n",
    "- 类在实例化的时候，执行一些基础性的初始化工作\n",
    "- 使用特殊名称和写法 \n",
    "- 在实例化的时候自动执行。 第一个被执行的函数 \n"
   ]
  },
  {
   "cell_type": "code",
   "execution_count": 21,
   "metadata": {},
   "outputs": [
    {
     "name": "stdout",
     "output_type": "stream",
     "text": [
      "我是构造函数\n",
      "NoName\n",
      "0\n"
     ]
    }
   ],
   "source": [
    "class Student():\n",
    "    name = \"NoName\"\n",
    "    age = 0\n",
    "    \n",
    "    #构造函数\n",
    "    def __init__(self):\n",
    "        print(\"我是构造函数\")\n",
    "        \n",
    "zhy = Student()\n",
    "print(zhy.name)\n",
    "print(zhy.age)"
   ]
  },
  {
   "cell_type": "markdown",
   "metadata": {},
   "source": [
    "# 面向对象的三大特征\n",
    "- 继承\n",
    "- 封装\n",
    "- 多态\n",
    "### 继承\n",
    "- 子类可使用父类定义的内容或者行为\n",
    "- 继承的实现\n",
    "    - 父类：基类，超类：被继承的类。 Base Class。 Super Class\n",
    "    - 子类：有继承行为的类\n",
    "    - 所有子类都要有父类\n",
    "        - 如果没有则默认为是object的子类"
   ]
  },
  {
   "cell_type": "code",
   "execution_count": null,
   "metadata": {},
   "outputs": [],
   "source": [
    " #所有类必须有父类\n",
    "# 默认是object\n",
    "class Person1():\n",
    "    pass\n",
    "class Person2():\n",
    "    pass\n"
   ]
  },
  {
   "cell_type": "code",
   "execution_count": 22,
   "metadata": {},
   "outputs": [
    {
     "name": "stdout",
     "output_type": "stream",
     "text": [
      "NoName\n"
     ]
    }
   ],
   "source": [
    "class Person():\n",
    "    name = \"NoName\"\n",
    "    age = 0 \n",
    "\n",
    "#父类写在类定义的括号里\n",
    "class Teacher(Person):\n",
    "    pass\n",
    "\n",
    "t = Teacher()\n",
    "print(t.name)\n",
    "    "
   ]
  },
  {
   "cell_type": "code",
   "execution_count": 23,
   "metadata": {},
   "outputs": [
    {
     "name": "stdout",
     "output_type": "stream",
     "text": [
      "fffffly\n",
      "NoName\n"
     ]
    }
   ],
   "source": [
    "class Bird():\n",
    "    fly = \"Yes,we can\"\n",
    "    def fly(self):\n",
    "        print(\"fffffly\")\n",
    "        \n",
    "class BirdMan(Person, Bird):\n",
    "    pass\n",
    "\n",
    "bm = BirdMan()\n",
    "bm.fly()\n",
    "print(bm.name)"
   ]
  },
  {
   "cell_type": "markdown",
   "metadata": {},
   "source": [
    "### issubclass检测是否是子类\n",
    "- 可以用来检测两个类的父子关系"
   ]
  },
  {
   "cell_type": "code",
   "execution_count": 24,
   "metadata": {
    "scrolled": true
   },
   "outputs": [
    {
     "name": "stdout",
     "output_type": "stream",
     "text": [
      "True\n"
     ]
    }
   ],
   "source": [
    "print(issubclass(BirdMan, Bird))"
   ]
  },
  {
   "cell_type": "markdown",
   "metadata": {},
   "source": [
    "# 构造函数\n",
    "- 在函数实例化的时候调用的一个函数\n",
    "- 自动调用\n",
    "- 要求，第一个参数必须有，一般推荐self\n",
    "- 构造函数的调用时间：一般认为在实例化的时候第一个调用\n",
    "- 一般不手动调用，实例化的时候自动调用，参数需写入类名称后面的括号中"
   ]
  },
  {
   "cell_type": "code",
   "execution_count": 27,
   "metadata": {},
   "outputs": [
    {
     "name": "stdout",
     "output_type": "stream",
     "text": [
      "我被调用了\n"
     ]
    }
   ],
   "source": [
    "class Bird():\n",
    "    def __init__(self):\n",
    "        print(\"我被调用了\")\n",
    "        return None\n",
    "    \n",
    "#此时被调用构造函数\n",
    "b = Bird()"
   ]
  },
  {
   "cell_type": "code",
   "execution_count": 28,
   "metadata": {},
   "outputs": [
    {
     "name": "stdout",
     "output_type": "stream",
     "text": [
      "zhy 21\n"
     ]
    }
   ],
   "source": [
    "# 构造函数2\n",
    "\n",
    "class Person():\n",
    "    def __init__(self, name, age):\n",
    "        print(name,age)\n",
    "        \n",
    "p = Person(\"zhy\",21)"
   ]
  },
  {
   "cell_type": "markdown",
   "metadata": {},
   "source": [
    "### 构造函数的继承\n",
    "- 构造函数默认继承\n",
    "- 一旦子类定义了构造函数，则不在自动调用父类构造函数"
   ]
  },
  {
   "cell_type": "code",
   "execution_count": 25,
   "metadata": {},
   "outputs": [
    {
     "ename": "TypeError",
     "evalue": "__init__() missing 2 required positional arguments: 'name' and 'age'",
     "output_type": "error",
     "traceback": [
      "\u001b[1;31m---------------------------------------------------------------------------\u001b[0m",
      "\u001b[1;31mTypeError\u001b[0m                                 Traceback (most recent call last)",
      "\u001b[1;32m<ipython-input-25-8bd47942c848>\u001b[0m in \u001b[0;36m<module>\u001b[1;34m\u001b[0m\n\u001b[0;32m      8\u001b[0m     \u001b[1;32mpass\u001b[0m\u001b[1;33m\u001b[0m\u001b[1;33m\u001b[0m\u001b[0m\n\u001b[0;32m      9\u001b[0m \u001b[1;33m\u001b[0m\u001b[0m\n\u001b[1;32m---> 10\u001b[1;33m \u001b[0mt\u001b[0m \u001b[1;33m=\u001b[0m \u001b[0mTeacher\u001b[0m\u001b[1;33m(\u001b[0m\u001b[1;33m)\u001b[0m\u001b[1;33m\u001b[0m\u001b[1;33m\u001b[0m\u001b[0m\n\u001b[0m",
      "\u001b[1;31mTypeError\u001b[0m: __init__() missing 2 required positional arguments: 'name' and 'age'"
     ]
    }
   ],
   "source": [
    "# 构造函数默认继承\n",
    "\n",
    "class Person():\n",
    "    def __init__(self, name, age):\n",
    "        print(\"Person = ({}, {})\".format(name, age))\n",
    "        \n",
    "class Teacher(Person):\n",
    "    pass\n",
    "\n",
    "t = Teacher()"
   ]
  }
 ],
 "metadata": {
  "kernelspec": {
   "display_name": "Python 3",
   "language": "python",
   "name": "python3"
  },
  "language_info": {
   "codemirror_mode": {
    "name": "ipython",
    "version": 3
   },
   "file_extension": ".py",
   "mimetype": "text/x-python",
   "name": "python",
   "nbconvert_exporter": "python",
   "pygments_lexer": "ipython3",
   "version": "3.7.4"
  }
 },
 "nbformat": 4,
 "nbformat_minor": 2
}
